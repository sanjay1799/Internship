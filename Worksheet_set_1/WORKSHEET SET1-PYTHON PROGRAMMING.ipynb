{
 "cells": [
  {
   "cell_type": "markdown",
   "metadata": {},
   "source": [
    "WORKSHEET SET1-PYTHON PROGRAMMING"
   ]
  },
  {
   "cell_type": "raw",
   "metadata": {},
   "source": [
    "Q11 to Q15 are programming questions. Answer them in Jupyter Notebook.\n",
    "11. Write a python program to find the factorial of a number.\n",
    "12. Write a python program to find whether a number is prime or composite.\n",
    "13. Write a python program to check whether a given string is palindrome or not.\n",
    "14. Write a Python program to get the third side of right-angled triangle from two given sides.\n",
    "15. Write a python program to print the frequency of each of the characters present in a given string"
   ]
  },
  {
   "cell_type": "markdown",
   "metadata": {},
   "source": [
    "FACTORIAL OF A NUMBER"
   ]
  },
  {
   "cell_type": "code",
   "execution_count": 38,
   "metadata": {},
   "outputs": [],
   "source": [
    "def factorial(x):\n",
    "    fact=1\n",
    "    if(x<0):\n",
    "        print(\"factorial doesn't exist\")\n",
    "    elif(x==0):\n",
    "              print(\"factorial=\",0)\n",
    "    else:\n",
    "        for i in range(1,x+1):\n",
    "            fact=fact*i\n",
    "        print(\"factorial=\",fact)\n",
    "    \n",
    "            "
   ]
  },
  {
   "cell_type": "code",
   "execution_count": 39,
   "metadata": {},
   "outputs": [
    {
     "name": "stdout",
     "output_type": "stream",
     "text": [
      "factorial= 5040\n"
     ]
    }
   ],
   "source": [
    "factorial(7)"
   ]
  },
  {
   "cell_type": "markdown",
   "metadata": {},
   "source": [
    "PRIME NUMBER"
   ]
  },
  {
   "cell_type": "code",
   "execution_count": 154,
   "metadata": {},
   "outputs": [],
   "source": [
    "def prime(y):\n",
    "    if(y>1):\n",
    "        for i in range(2,y):\n",
    "            if(y%i==0):\n",
    "                print(y,\"is a composite number\")\n",
    "                break\n",
    "        else:\n",
    "            print(y,\"is a prime number\")\n",
    "    elif(y== 0 or 1):\n",
    "        print(y,\"is neither a composite number nor a prime number\")\n",
    "    "
   ]
  },
  {
   "cell_type": "code",
   "execution_count": 169,
   "metadata": {},
   "outputs": [
    {
     "name": "stdout",
     "output_type": "stream",
     "text": [
      "17 is a prime number\n"
     ]
    }
   ],
   "source": [
    "prime(17)"
   ]
  },
  {
   "cell_type": "markdown",
   "metadata": {},
   "source": [
    "PALINDROME"
   ]
  },
  {
   "cell_type": "code",
   "execution_count": 237,
   "metadata": {},
   "outputs": [],
   "source": [
    "def palindrome(str):\n",
    "    flag = True\n",
    "    str = str.lower()\n",
    "    for i in range(0,len(str)//2):  \n",
    "        if(str[i] != str[(len(str)-1)-i]):  \n",
    "            flag = False\n",
    "            print(\"Given string is not a palindrome\")\n",
    "            break\n",
    "    if(flag==True):  \n",
    "        print(\"Given string is palindrome\")"
   ]
  },
  {
   "cell_type": "code",
   "execution_count": 238,
   "metadata": {},
   "outputs": [
    {
     "name": "stdout",
     "output_type": "stream",
     "text": [
      "Given string is not a palindrome\n"
     ]
    }
   ],
   "source": [
    "palindrome(\"tesant\")"
   ]
  },
  {
   "cell_type": "markdown",
   "metadata": {},
   "source": [
    "RIGHT ANGLED TRIANGLE"
   ]
  },
  {
   "cell_type": "code",
   "execution_count": 258,
   "metadata": {},
   "outputs": [],
   "source": [
    "def pythagoras(opposite_side,adjacent_side,hypotenuse):\n",
    "        if opposite_side == \"x\":\n",
    "            print (\"Opposite = \", (((hypotenuse**2) - (adjacent_side**2))**0.5))\n",
    "        elif adjacent_side == \"x\":\n",
    "            print (\"Adjacent = \",(((hypotenuse**2) - (opposite_side**2))**0.5))\n",
    "        elif hypotenuse == \"x\":\n",
    "            print (\"Hypotenuse = \", (((opposite_side**2) + (adjacent_side**2))**0.5))\n",
    "        else:\n",
    "            print(\"You know the answer!\")"
   ]
  },
  {
   "cell_type": "code",
   "execution_count": 263,
   "metadata": {},
   "outputs": [
    {
     "name": "stdout",
     "output_type": "stream",
     "text": [
      "Adjacent =  10.198039027185569\n"
     ]
    }
   ],
   "source": [
    "pythagoras(11,\"x\",15)"
   ]
  },
  {
   "cell_type": "markdown",
   "metadata": {},
   "source": [
    "FREQUENCY OF EACH CHARACTERS IN A STRING"
   ]
  },
  {
   "cell_type": "code",
   "execution_count": 280,
   "metadata": {},
   "outputs": [],
   "source": [
    "def freq(test_str):\n",
    "    char_freq = {}\n",
    "    for i in test_str:\n",
    "        if i in char_freq:\n",
    "            char_freq[i] += 1\n",
    "        else:\n",
    "                char_freq[i] = 1\n",
    "    print ((char_freq))                \n",
    "  \n",
    "     "
   ]
  },
  {
   "cell_type": "code",
   "execution_count": 281,
   "metadata": {},
   "outputs": [
    {
     "name": "stdout",
     "output_type": "stream",
     "text": [
      "{'m': 2, 'a': 5, 'h': 3, 'b': 1, 'r': 1, 't': 1}\n"
     ]
    }
   ],
   "source": [
    "freq(\"mahabharatham\")"
   ]
  },
  {
   "cell_type": "code",
   "execution_count": null,
   "metadata": {},
   "outputs": [],
   "source": []
  }
 ],
 "metadata": {
  "kernelspec": {
   "display_name": "Python 3",
   "language": "python",
   "name": "python3"
  },
  "language_info": {
   "codemirror_mode": {
    "name": "ipython",
    "version": 3
   },
   "file_extension": ".py",
   "mimetype": "text/x-python",
   "name": "python",
   "nbconvert_exporter": "python",
   "pygments_lexer": "ipython3",
   "version": "3.8.5"
  }
 },
 "nbformat": 4,
 "nbformat_minor": 4
}
