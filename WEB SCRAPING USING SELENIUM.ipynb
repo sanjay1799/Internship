{
 "cells": [
  {
   "cell_type": "code",
   "execution_count": 345,
   "metadata": {},
   "outputs": [],
   "source": [
    "#!pip install selenium"
   ]
  },
  {
   "cell_type": "markdown",
   "metadata": {},
   "source": [
    "download the webdriver of same version"
   ]
  },
  {
   "cell_type": "code",
   "execution_count": 17,
   "metadata": {},
   "outputs": [],
   "source": [
    "import selenium\n",
    "import pandas as pd\n",
    "from selenium import webdriver"
   ]
  },
  {
   "cell_type": "code",
   "execution_count": 347,
   "metadata": {},
   "outputs": [],
   "source": [
    "#driver=webdriver.Chrome(r\"C:\\Users\\Sanjay\\Downloads\\chromedriver_win32\\chromedriver.exe\")"
   ]
  },
  {
   "cell_type": "code",
   "execution_count": 348,
   "metadata": {},
   "outputs": [],
   "source": [
    "#driver.close()"
   ]
  },
  {
   "cell_type": "markdown",
   "metadata": {},
   "source": [
    "upload chromedriver.exe file in jupyter notebook then,"
   ]
  },
  {
   "cell_type": "code",
   "execution_count": 18,
   "metadata": {},
   "outputs": [],
   "source": [
    "driver=webdriver.Chrome(\"chromedriver.exe\")"
   ]
  },
  {
   "cell_type": "code",
   "execution_count": 19,
   "metadata": {},
   "outputs": [],
   "source": [
    "#driver.close()"
   ]
  },
  {
   "cell_type": "raw",
   "metadata": {},
   "source": [
    "Q1: Write a python program to scrape data for “Data Analyst” Job position in\n",
    "“Bangalore” location. You have to scrape the job-title, job-location, company_name,\n",
    "experience_required. You have to scrape first 10 jobs data."
   ]
  },
  {
   "cell_type": "code",
   "execution_count": 20,
   "metadata": {},
   "outputs": [],
   "source": [
    "driver.get(\"https://www.naukri.com/\")"
   ]
  },
  {
   "cell_type": "code",
   "execution_count": 21,
   "metadata": {},
   "outputs": [],
   "source": [
    "search_job = driver.find_element_by_id(\"qsb-keyword-sugg\")\n",
    "search_job.send_keys(\"Data Analyst\")\n",
    "search_loc=driver.find_element_by_xpath(\"//input[@id='qsb-location-sugg']\")\n",
    "search_loc.send_keys(\"bangalore\")"
   ]
  },
  {
   "cell_type": "code",
   "execution_count": 22,
   "metadata": {},
   "outputs": [],
   "source": [
    "search_btn=driver.find_element_by_xpath(\"//div[@class='search-btn']/button\")\n",
    "search_btn.click()"
   ]
  },
  {
   "cell_type": "markdown",
   "metadata": {},
   "source": [
    "scraping process"
   ]
  },
  {
   "cell_type": "code",
   "execution_count": 23,
   "metadata": {},
   "outputs": [],
   "source": [
    "title=driver.find_elements_by_xpath(\"//a[@class='title fw500 ellipsis']\")"
   ]
  },
  {
   "cell_type": "code",
   "execution_count": 24,
   "metadata": {},
   "outputs": [
    {
     "data": {
      "text/plain": [
       "[<selenium.webdriver.remote.webelement.WebElement (session=\"8ffa1474337a7ae1fcf5df7507b88ae2\", element=\"47358aaf-1885-417c-a65d-9f0a130aa566\")>,\n",
       " <selenium.webdriver.remote.webelement.WebElement (session=\"8ffa1474337a7ae1fcf5df7507b88ae2\", element=\"6d2f1106-fd8f-4f52-b40a-aff237893b1d\")>,\n",
       " <selenium.webdriver.remote.webelement.WebElement (session=\"8ffa1474337a7ae1fcf5df7507b88ae2\", element=\"e2199b28-52e1-4a40-a418-528461bda901\")>,\n",
       " <selenium.webdriver.remote.webelement.WebElement (session=\"8ffa1474337a7ae1fcf5df7507b88ae2\", element=\"de3d4ccf-f52a-4788-a863-338b246e831e\")>,\n",
       " <selenium.webdriver.remote.webelement.WebElement (session=\"8ffa1474337a7ae1fcf5df7507b88ae2\", element=\"cde304cc-96dd-463d-a689-07fe75ae7e73\")>,\n",
       " <selenium.webdriver.remote.webelement.WebElement (session=\"8ffa1474337a7ae1fcf5df7507b88ae2\", element=\"d0309185-5f3a-4b1b-be80-169589c5fbf7\")>,\n",
       " <selenium.webdriver.remote.webelement.WebElement (session=\"8ffa1474337a7ae1fcf5df7507b88ae2\", element=\"96932752-2fb5-4179-ba76-c72c40d9dd80\")>,\n",
       " <selenium.webdriver.remote.webelement.WebElement (session=\"8ffa1474337a7ae1fcf5df7507b88ae2\", element=\"fcecb422-b374-4239-ac78-c05e5cee22ae\")>,\n",
       " <selenium.webdriver.remote.webelement.WebElement (session=\"8ffa1474337a7ae1fcf5df7507b88ae2\", element=\"cc1c7da2-d0f1-41de-adcc-56c73858772b\")>,\n",
       " <selenium.webdriver.remote.webelement.WebElement (session=\"8ffa1474337a7ae1fcf5df7507b88ae2\", element=\"ef432887-e606-435f-a9f1-c48b955d20f3\")>,\n",
       " <selenium.webdriver.remote.webelement.WebElement (session=\"8ffa1474337a7ae1fcf5df7507b88ae2\", element=\"936bf9fa-62b4-45a8-befc-6cd7f69c78a0\")>,\n",
       " <selenium.webdriver.remote.webelement.WebElement (session=\"8ffa1474337a7ae1fcf5df7507b88ae2\", element=\"ea63c87b-1685-4964-a003-ac79cab1b50b\")>,\n",
       " <selenium.webdriver.remote.webelement.WebElement (session=\"8ffa1474337a7ae1fcf5df7507b88ae2\", element=\"4d34fd9c-6eb0-40bc-8ad3-f679d85a2b5f\")>,\n",
       " <selenium.webdriver.remote.webelement.WebElement (session=\"8ffa1474337a7ae1fcf5df7507b88ae2\", element=\"75a40e6a-8c02-438a-a7eb-62d892e3a263\")>,\n",
       " <selenium.webdriver.remote.webelement.WebElement (session=\"8ffa1474337a7ae1fcf5df7507b88ae2\", element=\"52ab6f18-c8b4-484e-9ca3-088bd45a5552\")>,\n",
       " <selenium.webdriver.remote.webelement.WebElement (session=\"8ffa1474337a7ae1fcf5df7507b88ae2\", element=\"c81755b3-588f-4c7f-a23d-099d56e57a3c\")>,\n",
       " <selenium.webdriver.remote.webelement.WebElement (session=\"8ffa1474337a7ae1fcf5df7507b88ae2\", element=\"8cdc965e-d7f7-404f-940c-5d97cc72bc56\")>,\n",
       " <selenium.webdriver.remote.webelement.WebElement (session=\"8ffa1474337a7ae1fcf5df7507b88ae2\", element=\"ff45a8cc-640e-484c-afb2-7b0ea9c9a9a2\")>,\n",
       " <selenium.webdriver.remote.webelement.WebElement (session=\"8ffa1474337a7ae1fcf5df7507b88ae2\", element=\"ac8ca560-8e29-4398-bd92-0c73b50f70bf\")>,\n",
       " <selenium.webdriver.remote.webelement.WebElement (session=\"8ffa1474337a7ae1fcf5df7507b88ae2\", element=\"1172ceca-5c74-4647-bc01-581380f6d42a\")>]"
      ]
     },
     "execution_count": 24,
     "metadata": {},
     "output_type": "execute_result"
    }
   ],
   "source": [
    "title"
   ]
  },
  {
   "cell_type": "code",
   "execution_count": 25,
   "metadata": {},
   "outputs": [
    {
     "data": {
      "text/plain": [
       "['Associate Data Analyst',\n",
       " 'SQL Data Analyst',\n",
       " 'Data Analyst - Marketing',\n",
       " 'Business Data Analyst',\n",
       " 'Data Analyst',\n",
       " 'Openings For Data Analyst',\n",
       " 'Senior Data Analyst',\n",
       " 'Senior Data Analyst',\n",
       " 'Senior Data Analyst',\n",
       " 'Senior Data Analyst']"
      ]
     },
     "execution_count": 25,
     "metadata": {},
     "output_type": "execute_result"
    }
   ],
   "source": [
    "titles=[]\n",
    "for i in title:\n",
    "    titles.append(i.text)\n",
    "titles[0:10]"
   ]
  },
  {
   "cell_type": "code",
   "execution_count": 26,
   "metadata": {},
   "outputs": [],
   "source": [
    "location=driver.find_elements_by_xpath(\"//li[@class='fleft grey-text br2 placeHolderLi location']\")"
   ]
  },
  {
   "cell_type": "code",
   "execution_count": 27,
   "metadata": {},
   "outputs": [
    {
     "data": {
      "text/plain": [
       "[<selenium.webdriver.remote.webelement.WebElement (session=\"8ffa1474337a7ae1fcf5df7507b88ae2\", element=\"3cb8613c-3510-4b7c-a280-085481daa76e\")>,\n",
       " <selenium.webdriver.remote.webelement.WebElement (session=\"8ffa1474337a7ae1fcf5df7507b88ae2\", element=\"ecf10867-bf94-463b-8d21-4b7a9d6ab015\")>,\n",
       " <selenium.webdriver.remote.webelement.WebElement (session=\"8ffa1474337a7ae1fcf5df7507b88ae2\", element=\"1b56a885-0708-4d26-9732-85d89065408b\")>,\n",
       " <selenium.webdriver.remote.webelement.WebElement (session=\"8ffa1474337a7ae1fcf5df7507b88ae2\", element=\"75e4250a-3b49-4d0c-809f-468ca526e1cc\")>,\n",
       " <selenium.webdriver.remote.webelement.WebElement (session=\"8ffa1474337a7ae1fcf5df7507b88ae2\", element=\"f091211c-b693-4894-941a-310f8f2d5782\")>,\n",
       " <selenium.webdriver.remote.webelement.WebElement (session=\"8ffa1474337a7ae1fcf5df7507b88ae2\", element=\"ccc6689e-4083-4137-b7bb-5027caca3127\")>,\n",
       " <selenium.webdriver.remote.webelement.WebElement (session=\"8ffa1474337a7ae1fcf5df7507b88ae2\", element=\"f92250c3-d86a-4625-b6a2-23b6ef4abe7b\")>,\n",
       " <selenium.webdriver.remote.webelement.WebElement (session=\"8ffa1474337a7ae1fcf5df7507b88ae2\", element=\"ad4fe763-1949-470b-9587-27123d0f7932\")>,\n",
       " <selenium.webdriver.remote.webelement.WebElement (session=\"8ffa1474337a7ae1fcf5df7507b88ae2\", element=\"13871e60-5464-4c72-aa1a-35352239bba7\")>,\n",
       " <selenium.webdriver.remote.webelement.WebElement (session=\"8ffa1474337a7ae1fcf5df7507b88ae2\", element=\"80ad8969-bb90-4ed8-a0a7-e63b539f3a2d\")>,\n",
       " <selenium.webdriver.remote.webelement.WebElement (session=\"8ffa1474337a7ae1fcf5df7507b88ae2\", element=\"154bd13d-a10e-46d9-b5c3-0103d600aa77\")>,\n",
       " <selenium.webdriver.remote.webelement.WebElement (session=\"8ffa1474337a7ae1fcf5df7507b88ae2\", element=\"29498628-6180-408d-acaa-3cff5a2df615\")>,\n",
       " <selenium.webdriver.remote.webelement.WebElement (session=\"8ffa1474337a7ae1fcf5df7507b88ae2\", element=\"b62b7a1f-6e39-49b5-8fc7-1dc05ee0d4b0\")>,\n",
       " <selenium.webdriver.remote.webelement.WebElement (session=\"8ffa1474337a7ae1fcf5df7507b88ae2\", element=\"c5bfc8bc-43a1-494a-a081-79e9ade2aecc\")>,\n",
       " <selenium.webdriver.remote.webelement.WebElement (session=\"8ffa1474337a7ae1fcf5df7507b88ae2\", element=\"54e526d2-ae97-429b-a255-805fce45ba7a\")>,\n",
       " <selenium.webdriver.remote.webelement.WebElement (session=\"8ffa1474337a7ae1fcf5df7507b88ae2\", element=\"0e3aac08-a033-44a4-8e33-12c51038a6f4\")>,\n",
       " <selenium.webdriver.remote.webelement.WebElement (session=\"8ffa1474337a7ae1fcf5df7507b88ae2\", element=\"86ca7f9f-9f3c-4ad2-85c0-ca7490ada9d4\")>,\n",
       " <selenium.webdriver.remote.webelement.WebElement (session=\"8ffa1474337a7ae1fcf5df7507b88ae2\", element=\"823c2493-d4bd-43ff-a943-79849ceca57c\")>,\n",
       " <selenium.webdriver.remote.webelement.WebElement (session=\"8ffa1474337a7ae1fcf5df7507b88ae2\", element=\"709fbd55-d8c7-4267-a5f1-e9203d18848e\")>,\n",
       " <selenium.webdriver.remote.webelement.WebElement (session=\"8ffa1474337a7ae1fcf5df7507b88ae2\", element=\"e5d1390d-a467-4499-af30-65f0abbb0fb3\")>]"
      ]
     },
     "execution_count": 27,
     "metadata": {},
     "output_type": "execute_result"
    }
   ],
   "source": [
    "location"
   ]
  },
  {
   "cell_type": "code",
   "execution_count": 28,
   "metadata": {},
   "outputs": [
    {
     "data": {
      "text/plain": [
       "['Bangalore/Bengaluru',\n",
       " 'Bangalore/Bengaluru',\n",
       " 'Bangalore/Bengaluru',\n",
       " 'Bangalore/Bengaluru',\n",
       " 'Bangalore/Bengaluru',\n",
       " 'Bangalore/Bengaluru',\n",
       " 'Bangalore/Bengaluru',\n",
       " 'Bangalore/Bengaluru',\n",
       " 'Bangalore/Bengaluru',\n",
       " 'Bangalore/Bengaluru']"
      ]
     },
     "execution_count": 28,
     "metadata": {},
     "output_type": "execute_result"
    }
   ],
   "source": [
    "locations=[]\n",
    "for i in location:\n",
    "    locations.append(i.text)\n",
    "locations[0:10]"
   ]
  },
  {
   "cell_type": "code",
   "execution_count": 29,
   "metadata": {},
   "outputs": [],
   "source": [
    "c_name=driver.find_elements_by_xpath(\"//a[@class='subTitle ellipsis fleft']\")"
   ]
  },
  {
   "cell_type": "code",
   "execution_count": 30,
   "metadata": {},
   "outputs": [
    {
     "data": {
      "text/plain": [
       "['Integrated Digital Systems',\n",
       " 'NetApp',\n",
       " 'Byjus - Transforming Education using Technology',\n",
       " 'RANDSTAD INDIA PVT LTD',\n",
       " 'Amazon Development Centre (India) Pvt. Ltd.',\n",
       " 'Allegis Services India Pvt. Ltd.',\n",
       " 'Flipkart Internet Private Limited',\n",
       " 'Flipkart Internet Private Limited',\n",
       " 'Flipkart Internet Private Limited',\n",
       " 'Flipkart Internet Private Limited']"
      ]
     },
     "execution_count": 30,
     "metadata": {},
     "output_type": "execute_result"
    }
   ],
   "source": [
    "c_names=[]\n",
    "for i in c_name:\n",
    "    c_names.append(i.text)\n",
    "c_names[0:10]"
   ]
  },
  {
   "cell_type": "code",
   "execution_count": 31,
   "metadata": {},
   "outputs": [
    {
     "data": {
      "text/plain": [
       "[<selenium.webdriver.remote.webelement.WebElement (session=\"8ffa1474337a7ae1fcf5df7507b88ae2\", element=\"bc30f59b-352f-4bb8-a42d-d8aab1882ccd\")>,\n",
       " <selenium.webdriver.remote.webelement.WebElement (session=\"8ffa1474337a7ae1fcf5df7507b88ae2\", element=\"4116a24c-bf45-4dfc-9168-b2b0836f637a\")>,\n",
       " <selenium.webdriver.remote.webelement.WebElement (session=\"8ffa1474337a7ae1fcf5df7507b88ae2\", element=\"41d1f389-1f29-4d0c-8639-b33de69f495d\")>,\n",
       " <selenium.webdriver.remote.webelement.WebElement (session=\"8ffa1474337a7ae1fcf5df7507b88ae2\", element=\"2598259f-e0c5-4881-a4a7-d9c8169e16b8\")>,\n",
       " <selenium.webdriver.remote.webelement.WebElement (session=\"8ffa1474337a7ae1fcf5df7507b88ae2\", element=\"409bd089-5e49-468e-bffc-bda049f30ce4\")>,\n",
       " <selenium.webdriver.remote.webelement.WebElement (session=\"8ffa1474337a7ae1fcf5df7507b88ae2\", element=\"5befe9f9-e915-406e-afff-946c41346134\")>,\n",
       " <selenium.webdriver.remote.webelement.WebElement (session=\"8ffa1474337a7ae1fcf5df7507b88ae2\", element=\"bc3bed26-7464-4d13-8e1a-57472da3ba54\")>,\n",
       " <selenium.webdriver.remote.webelement.WebElement (session=\"8ffa1474337a7ae1fcf5df7507b88ae2\", element=\"739f91c3-df13-4a40-87cf-c85e586b40de\")>,\n",
       " <selenium.webdriver.remote.webelement.WebElement (session=\"8ffa1474337a7ae1fcf5df7507b88ae2\", element=\"8f3b3183-79db-408f-bd82-80466d3a78d8\")>,\n",
       " <selenium.webdriver.remote.webelement.WebElement (session=\"8ffa1474337a7ae1fcf5df7507b88ae2\", element=\"6e3f0d3e-40bb-4db4-b364-7f46558bca02\")>,\n",
       " <selenium.webdriver.remote.webelement.WebElement (session=\"8ffa1474337a7ae1fcf5df7507b88ae2\", element=\"f2c5b24d-7ae6-41aa-a042-3f3f28fcddd3\")>,\n",
       " <selenium.webdriver.remote.webelement.WebElement (session=\"8ffa1474337a7ae1fcf5df7507b88ae2\", element=\"cca9fbd8-587f-4db3-a4fd-c265477b67d7\")>,\n",
       " <selenium.webdriver.remote.webelement.WebElement (session=\"8ffa1474337a7ae1fcf5df7507b88ae2\", element=\"a93bdeb1-78bc-480b-9dc3-bacdc5967323\")>,\n",
       " <selenium.webdriver.remote.webelement.WebElement (session=\"8ffa1474337a7ae1fcf5df7507b88ae2\", element=\"30c0ca54-162d-46c6-94bc-99112603ba2c\")>,\n",
       " <selenium.webdriver.remote.webelement.WebElement (session=\"8ffa1474337a7ae1fcf5df7507b88ae2\", element=\"65b44298-4cce-488c-9ed0-a0efd71f1937\")>,\n",
       " <selenium.webdriver.remote.webelement.WebElement (session=\"8ffa1474337a7ae1fcf5df7507b88ae2\", element=\"a7fb2f6c-7905-47fc-b910-bf1f938a3dc6\")>,\n",
       " <selenium.webdriver.remote.webelement.WebElement (session=\"8ffa1474337a7ae1fcf5df7507b88ae2\", element=\"8a71f9fc-981b-4205-a1bb-43351eded5b1\")>,\n",
       " <selenium.webdriver.remote.webelement.WebElement (session=\"8ffa1474337a7ae1fcf5df7507b88ae2\", element=\"e743de83-c3ca-46d1-9a29-7296cedaad44\")>,\n",
       " <selenium.webdriver.remote.webelement.WebElement (session=\"8ffa1474337a7ae1fcf5df7507b88ae2\", element=\"e2661c56-c291-46e0-902b-55bc94e9947b\")>,\n",
       " <selenium.webdriver.remote.webelement.WebElement (session=\"8ffa1474337a7ae1fcf5df7507b88ae2\", element=\"723538fd-9768-4cdb-b9c5-6057d56cbaf5\")>]"
      ]
     },
     "execution_count": 31,
     "metadata": {},
     "output_type": "execute_result"
    }
   ],
   "source": [
    "exp=driver.find_elements_by_xpath(\"//li[@class='fleft grey-text br2 placeHolderLi experience']\")\n",
    "exp"
   ]
  },
  {
   "cell_type": "code",
   "execution_count": 32,
   "metadata": {},
   "outputs": [
    {
     "data": {
      "text/plain": [
       "['0-2 Yrs',\n",
       " '3-7 Yrs',\n",
       " '0-2 Yrs',\n",
       " '8-12 Yrs',\n",
       " '2-4 Yrs',\n",
       " '0-3 Yrs',\n",
       " '2-5 Yrs',\n",
       " '3-7 Yrs',\n",
       " '3-7 Yrs',\n",
       " '3-7 Yrs']"
      ]
     },
     "execution_count": 32,
     "metadata": {},
     "output_type": "execute_result"
    }
   ],
   "source": [
    "exps=[]\n",
    "for i in exp:\n",
    "    exps.append(i.text)\n",
    "exps[0:10]"
   ]
  },
  {
   "cell_type": "code",
   "execution_count": 33,
   "metadata": {},
   "outputs": [
    {
     "data": {
      "text/html": [
       "<div>\n",
       "<style scoped>\n",
       "    .dataframe tbody tr th:only-of-type {\n",
       "        vertical-align: middle;\n",
       "    }\n",
       "\n",
       "    .dataframe tbody tr th {\n",
       "        vertical-align: top;\n",
       "    }\n",
       "\n",
       "    .dataframe thead th {\n",
       "        text-align: right;\n",
       "    }\n",
       "</style>\n",
       "<table border=\"1\" class=\"dataframe\">\n",
       "  <thead>\n",
       "    <tr style=\"text-align: right;\">\n",
       "      <th></th>\n",
       "      <th>job_title</th>\n",
       "      <th>location</th>\n",
       "      <th>company_name</th>\n",
       "      <th>experience_required</th>\n",
       "    </tr>\n",
       "  </thead>\n",
       "  <tbody>\n",
       "    <tr>\n",
       "      <th>0</th>\n",
       "      <td>Associate Data Analyst</td>\n",
       "      <td>Bangalore/Bengaluru</td>\n",
       "      <td>Integrated Digital Systems</td>\n",
       "      <td>0-2 Yrs</td>\n",
       "    </tr>\n",
       "    <tr>\n",
       "      <th>1</th>\n",
       "      <td>SQL Data Analyst</td>\n",
       "      <td>Bangalore/Bengaluru</td>\n",
       "      <td>NetApp</td>\n",
       "      <td>3-7 Yrs</td>\n",
       "    </tr>\n",
       "    <tr>\n",
       "      <th>2</th>\n",
       "      <td>Data Analyst - Marketing</td>\n",
       "      <td>Bangalore/Bengaluru</td>\n",
       "      <td>Byjus - Transforming Education using Technology</td>\n",
       "      <td>0-2 Yrs</td>\n",
       "    </tr>\n",
       "    <tr>\n",
       "      <th>3</th>\n",
       "      <td>Business Data Analyst</td>\n",
       "      <td>Bangalore/Bengaluru</td>\n",
       "      <td>RANDSTAD INDIA PVT LTD</td>\n",
       "      <td>8-12 Yrs</td>\n",
       "    </tr>\n",
       "    <tr>\n",
       "      <th>4</th>\n",
       "      <td>Data Analyst</td>\n",
       "      <td>Bangalore/Bengaluru</td>\n",
       "      <td>Amazon Development Centre (India) Pvt. Ltd.</td>\n",
       "      <td>2-4 Yrs</td>\n",
       "    </tr>\n",
       "    <tr>\n",
       "      <th>5</th>\n",
       "      <td>Openings For Data Analyst</td>\n",
       "      <td>Bangalore/Bengaluru</td>\n",
       "      <td>Allegis Services India Pvt. Ltd.</td>\n",
       "      <td>0-3 Yrs</td>\n",
       "    </tr>\n",
       "    <tr>\n",
       "      <th>6</th>\n",
       "      <td>Senior Data Analyst</td>\n",
       "      <td>Bangalore/Bengaluru</td>\n",
       "      <td>Flipkart Internet Private Limited</td>\n",
       "      <td>2-5 Yrs</td>\n",
       "    </tr>\n",
       "    <tr>\n",
       "      <th>7</th>\n",
       "      <td>Senior Data Analyst</td>\n",
       "      <td>Bangalore/Bengaluru</td>\n",
       "      <td>Flipkart Internet Private Limited</td>\n",
       "      <td>3-7 Yrs</td>\n",
       "    </tr>\n",
       "    <tr>\n",
       "      <th>8</th>\n",
       "      <td>Senior Data Analyst</td>\n",
       "      <td>Bangalore/Bengaluru</td>\n",
       "      <td>Flipkart Internet Private Limited</td>\n",
       "      <td>3-7 Yrs</td>\n",
       "    </tr>\n",
       "    <tr>\n",
       "      <th>9</th>\n",
       "      <td>Senior Data Analyst</td>\n",
       "      <td>Bangalore/Bengaluru</td>\n",
       "      <td>Flipkart Internet Private Limited</td>\n",
       "      <td>3-7 Yrs</td>\n",
       "    </tr>\n",
       "  </tbody>\n",
       "</table>\n",
       "</div>"
      ],
      "text/plain": [
       "                   job_title             location  \\\n",
       "0     Associate Data Analyst  Bangalore/Bengaluru   \n",
       "1           SQL Data Analyst  Bangalore/Bengaluru   \n",
       "2   Data Analyst - Marketing  Bangalore/Bengaluru   \n",
       "3      Business Data Analyst  Bangalore/Bengaluru   \n",
       "4               Data Analyst  Bangalore/Bengaluru   \n",
       "5  Openings For Data Analyst  Bangalore/Bengaluru   \n",
       "6        Senior Data Analyst  Bangalore/Bengaluru   \n",
       "7        Senior Data Analyst  Bangalore/Bengaluru   \n",
       "8        Senior Data Analyst  Bangalore/Bengaluru   \n",
       "9        Senior Data Analyst  Bangalore/Bengaluru   \n",
       "\n",
       "                                      company_name experience_required  \n",
       "0                       Integrated Digital Systems             0-2 Yrs  \n",
       "1                                           NetApp             3-7 Yrs  \n",
       "2  Byjus - Transforming Education using Technology             0-2 Yrs  \n",
       "3                           RANDSTAD INDIA PVT LTD            8-12 Yrs  \n",
       "4      Amazon Development Centre (India) Pvt. Ltd.             2-4 Yrs  \n",
       "5                 Allegis Services India Pvt. Ltd.             0-3 Yrs  \n",
       "6                Flipkart Internet Private Limited             2-5 Yrs  \n",
       "7                Flipkart Internet Private Limited             3-7 Yrs  \n",
       "8                Flipkart Internet Private Limited             3-7 Yrs  \n",
       "9                Flipkart Internet Private Limited             3-7 Yrs  "
      ]
     },
     "execution_count": 33,
     "metadata": {},
     "output_type": "execute_result"
    }
   ],
   "source": [
    "df=pd.DataFrame()\n",
    "df[\"job_title\"]=titles[0:10]\n",
    "df[\"location\"]=locations[0:10]\n",
    "df[\"company_name\"]=c_names[0:10]\n",
    "df[\"experience_required\"]=exps[0:10]\n",
    "df"
   ]
  },
  {
   "cell_type": "code",
   "execution_count": 34,
   "metadata": {},
   "outputs": [],
   "source": [
    "driver.close()"
   ]
  },
  {
   "cell_type": "raw",
   "metadata": {},
   "source": [
    "Q2: Write a python program to scrape data for “Data Scientist” Job position in\n",
    "“Bangalore” location. You have to scrape the job-title, job-location,\n",
    "company_name, full job-description. You have to scrape first 10 jobs data."
   ]
  },
  {
   "cell_type": "code",
   "execution_count": 40,
   "metadata": {},
   "outputs": [],
   "source": [
    "driver=webdriver.Chrome(\"chromedriver.exe\")\n",
    "driver.get(\"https://www.naukri.com/\")"
   ]
  },
  {
   "cell_type": "code",
   "execution_count": 41,
   "metadata": {},
   "outputs": [],
   "source": [
    "search_job = driver.find_element_by_id(\"qsb-keyword-sugg\")\n",
    "search_job.send_keys(\"Data Scientist\")\n",
    "search_loc=driver.find_element_by_xpath(\"//input[@id='qsb-location-sugg']\")\n",
    "search_loc.send_keys(\"bangalore\")"
   ]
  },
  {
   "cell_type": "code",
   "execution_count": 42,
   "metadata": {},
   "outputs": [],
   "source": [
    "search_btn=driver.find_element_by_xpath(\"//div[@class='search-btn']/button\")\n",
    "search_btn.click()"
   ]
  },
  {
   "cell_type": "code",
   "execution_count": 7,
   "metadata": {},
   "outputs": [
    {
     "data": {
      "text/plain": [
       "['Data Scientist / AI / ML Engineer',\n",
       " 'Senior Data Scientist',\n",
       " 'Senior Data Scientist',\n",
       " 'Senior Data Scientist, NLP',\n",
       " 'Data Scientist',\n",
       " 'Data Scientist',\n",
       " 'Data Scientist: Advanced Analytics',\n",
       " 'Data Scientist - AI Flagship',\n",
       " 'Digital Enterprise Architect (Data Scientist)',\n",
       " 'Data Scientist']"
      ]
     },
     "execution_count": 7,
     "metadata": {},
     "output_type": "execute_result"
    }
   ],
   "source": [
    "title=driver.find_elements_by_xpath(\"//a[@class='title fw500 ellipsis']\")\n",
    "titles=[]\n",
    "for i in title:\n",
    "    titles.append(i.text)\n",
    "titles[0:10]"
   ]
  },
  {
   "cell_type": "code",
   "execution_count": 9,
   "metadata": {},
   "outputs": [
    {
     "data": {
      "text/plain": [
       "['Bangalore/Bengaluru',\n",
       " 'Bangalore/Bengaluru',\n",
       " 'Bangalore/Bengaluru(Sadashiva Nagar)\\n(WFH during Covid)',\n",
       " 'Bangalore/Bengaluru',\n",
       " 'Bangalore/Bengaluru(Whitefield)\\n(WFH during Covid)',\n",
       " 'Bangalore/Bengaluru',\n",
       " 'Bangalore/Bengaluru',\n",
       " 'Bangalore/Bengaluru',\n",
       " 'Bangalore/Bengaluru',\n",
       " 'Bangalore/Bengaluru']"
      ]
     },
     "execution_count": 9,
     "metadata": {},
     "output_type": "execute_result"
    }
   ],
   "source": [
    "location=driver.find_elements_by_xpath(\"//li[@class='fleft grey-text br2 placeHolderLi location']\")\n",
    "locations=[]\n",
    "for i in location:\n",
    "    locations.append(i.text)\n",
    "locations[0:10]"
   ]
  },
  {
   "cell_type": "code",
   "execution_count": 10,
   "metadata": {},
   "outputs": [
    {
     "data": {
      "text/plain": [
       "['Hitachi Ltd.',\n",
       " 'GO-JEK India',\n",
       " 'Convergence Infotech Ltd',\n",
       " 'Thomson Reuters',\n",
       " 'BRIDGETREE RESEARCH SERVICES PRIVATE LIMITED',\n",
       " 'Flipkart Internet Private Limited',\n",
       " 'IBM India Pvt. Limited',\n",
       " 'Schneider Electric India Pvt. Ltd.',\n",
       " 'Mphasis Limited',\n",
       " 'GlaxoSmithKline Pharmaceuticals Limited']"
      ]
     },
     "execution_count": 10,
     "metadata": {},
     "output_type": "execute_result"
    }
   ],
   "source": [
    "c_name=driver.find_elements_by_xpath(\"//a[@class='subTitle ellipsis fleft']\")\n",
    "c_names=[]\n",
    "for i in c_name:\n",
    "    c_names.append(i.text)\n",
    "c_names[0:10]"
   ]
  },
  {
   "cell_type": "code",
   "execution_count": 11,
   "metadata": {},
   "outputs": [
    {
     "data": {
      "text/plain": [
       "['5-10 Yrs',\n",
       " '5-10 Yrs',\n",
       " '8-12 Yrs',\n",
       " '8-10 Yrs',\n",
       " '4-5 Yrs',\n",
       " '3-6 Yrs',\n",
       " '5-10 Yrs',\n",
       " '4-7 Yrs',\n",
       " '10-13 Yrs',\n",
       " '4-7 Yrs']"
      ]
     },
     "execution_count": 11,
     "metadata": {},
     "output_type": "execute_result"
    }
   ],
   "source": [
    "exp=driver.find_elements_by_xpath(\"//li[@class='fleft grey-text br2 placeHolderLi experience']\")\n",
    "exps=[]\n",
    "for i in exp:\n",
    "    exps.append(i.text)\n",
    "exps[0:10]"
   ]
  },
  {
   "cell_type": "code",
   "execution_count": 12,
   "metadata": {},
   "outputs": [
    {
     "data": {
      "text/html": [
       "<div>\n",
       "<style scoped>\n",
       "    .dataframe tbody tr th:only-of-type {\n",
       "        vertical-align: middle;\n",
       "    }\n",
       "\n",
       "    .dataframe tbody tr th {\n",
       "        vertical-align: top;\n",
       "    }\n",
       "\n",
       "    .dataframe thead th {\n",
       "        text-align: right;\n",
       "    }\n",
       "</style>\n",
       "<table border=\"1\" class=\"dataframe\">\n",
       "  <thead>\n",
       "    <tr style=\"text-align: right;\">\n",
       "      <th></th>\n",
       "      <th>job_title</th>\n",
       "      <th>location</th>\n",
       "      <th>company_name</th>\n",
       "      <th>experience_required</th>\n",
       "    </tr>\n",
       "  </thead>\n",
       "  <tbody>\n",
       "    <tr>\n",
       "      <th>0</th>\n",
       "      <td>Data Scientist / AI / ML Engineer</td>\n",
       "      <td>Bangalore/Bengaluru</td>\n",
       "      <td>Hitachi Ltd.</td>\n",
       "      <td>5-10 Yrs</td>\n",
       "    </tr>\n",
       "    <tr>\n",
       "      <th>1</th>\n",
       "      <td>Senior Data Scientist</td>\n",
       "      <td>Bangalore/Bengaluru</td>\n",
       "      <td>GO-JEK India</td>\n",
       "      <td>5-10 Yrs</td>\n",
       "    </tr>\n",
       "    <tr>\n",
       "      <th>2</th>\n",
       "      <td>Senior Data Scientist</td>\n",
       "      <td>Bangalore/Bengaluru(Sadashiva Nagar)\\n(WFH dur...</td>\n",
       "      <td>Convergence Infotech Ltd</td>\n",
       "      <td>8-12 Yrs</td>\n",
       "    </tr>\n",
       "    <tr>\n",
       "      <th>3</th>\n",
       "      <td>Senior Data Scientist, NLP</td>\n",
       "      <td>Bangalore/Bengaluru</td>\n",
       "      <td>Thomson Reuters</td>\n",
       "      <td>8-10 Yrs</td>\n",
       "    </tr>\n",
       "    <tr>\n",
       "      <th>4</th>\n",
       "      <td>Data Scientist</td>\n",
       "      <td>Bangalore/Bengaluru(Whitefield)\\n(WFH during C...</td>\n",
       "      <td>BRIDGETREE RESEARCH SERVICES PRIVATE LIMITED</td>\n",
       "      <td>4-5 Yrs</td>\n",
       "    </tr>\n",
       "    <tr>\n",
       "      <th>5</th>\n",
       "      <td>Data Scientist</td>\n",
       "      <td>Bangalore/Bengaluru</td>\n",
       "      <td>Flipkart Internet Private Limited</td>\n",
       "      <td>3-6 Yrs</td>\n",
       "    </tr>\n",
       "    <tr>\n",
       "      <th>6</th>\n",
       "      <td>Data Scientist: Advanced Analytics</td>\n",
       "      <td>Bangalore/Bengaluru</td>\n",
       "      <td>IBM India Pvt. Limited</td>\n",
       "      <td>5-10 Yrs</td>\n",
       "    </tr>\n",
       "    <tr>\n",
       "      <th>7</th>\n",
       "      <td>Data Scientist - AI Flagship</td>\n",
       "      <td>Bangalore/Bengaluru</td>\n",
       "      <td>Schneider Electric India Pvt. Ltd.</td>\n",
       "      <td>4-7 Yrs</td>\n",
       "    </tr>\n",
       "    <tr>\n",
       "      <th>8</th>\n",
       "      <td>Digital Enterprise Architect (Data Scientist)</td>\n",
       "      <td>Bangalore/Bengaluru</td>\n",
       "      <td>Mphasis Limited</td>\n",
       "      <td>10-13 Yrs</td>\n",
       "    </tr>\n",
       "    <tr>\n",
       "      <th>9</th>\n",
       "      <td>Data Scientist</td>\n",
       "      <td>Bangalore/Bengaluru</td>\n",
       "      <td>GlaxoSmithKline Pharmaceuticals Limited</td>\n",
       "      <td>4-7 Yrs</td>\n",
       "    </tr>\n",
       "  </tbody>\n",
       "</table>\n",
       "</div>"
      ],
      "text/plain": [
       "                                       job_title  \\\n",
       "0              Data Scientist / AI / ML Engineer   \n",
       "1                          Senior Data Scientist   \n",
       "2                          Senior Data Scientist   \n",
       "3                     Senior Data Scientist, NLP   \n",
       "4                                 Data Scientist   \n",
       "5                                 Data Scientist   \n",
       "6             Data Scientist: Advanced Analytics   \n",
       "7                   Data Scientist - AI Flagship   \n",
       "8  Digital Enterprise Architect (Data Scientist)   \n",
       "9                                 Data Scientist   \n",
       "\n",
       "                                            location  \\\n",
       "0                                Bangalore/Bengaluru   \n",
       "1                                Bangalore/Bengaluru   \n",
       "2  Bangalore/Bengaluru(Sadashiva Nagar)\\n(WFH dur...   \n",
       "3                                Bangalore/Bengaluru   \n",
       "4  Bangalore/Bengaluru(Whitefield)\\n(WFH during C...   \n",
       "5                                Bangalore/Bengaluru   \n",
       "6                                Bangalore/Bengaluru   \n",
       "7                                Bangalore/Bengaluru   \n",
       "8                                Bangalore/Bengaluru   \n",
       "9                                Bangalore/Bengaluru   \n",
       "\n",
       "                                   company_name experience_required  \n",
       "0                                  Hitachi Ltd.            5-10 Yrs  \n",
       "1                                  GO-JEK India            5-10 Yrs  \n",
       "2                      Convergence Infotech Ltd            8-12 Yrs  \n",
       "3                               Thomson Reuters            8-10 Yrs  \n",
       "4  BRIDGETREE RESEARCH SERVICES PRIVATE LIMITED             4-5 Yrs  \n",
       "5             Flipkart Internet Private Limited             3-6 Yrs  \n",
       "6                        IBM India Pvt. Limited            5-10 Yrs  \n",
       "7            Schneider Electric India Pvt. Ltd.             4-7 Yrs  \n",
       "8                               Mphasis Limited           10-13 Yrs  \n",
       "9       GlaxoSmithKline Pharmaceuticals Limited             4-7 Yrs  "
      ]
     },
     "execution_count": 12,
     "metadata": {},
     "output_type": "execute_result"
    }
   ],
   "source": [
    "df=pd.DataFrame()\n",
    "df[\"job_title\"]=titles[0:10]\n",
    "df[\"location\"]=locations[0:10]\n",
    "df[\"company_name\"]=c_names[0:10]\n",
    "df[\"experience_required\"]=exps[0:10]\n",
    "df"
   ]
  },
  {
   "cell_type": "code",
   "execution_count": 8,
   "metadata": {},
   "outputs": [],
   "source": [
    "import time"
   ]
  },
  {
   "cell_type": "code",
   "execution_count": 44,
   "metadata": {},
   "outputs": [],
   "source": [
    "page_url = [] \n",
    "\n",
    "url = driver.find_elements_by_xpath(\"//a[@class='title fw500 ellipsis']\")\n",
    "for i in url:\n",
    "    page_url.append(i.get_attribute('href'))"
   ]
  },
  {
   "cell_type": "code",
   "execution_count": 45,
   "metadata": {},
   "outputs": [
    {
     "data": {
      "text/plain": [
       "20"
      ]
     },
     "execution_count": 45,
     "metadata": {},
     "output_type": "execute_result"
    }
   ],
   "source": [
    "len(page_url)"
   ]
  },
  {
   "cell_type": "code",
   "execution_count": 46,
   "metadata": {},
   "outputs": [],
   "source": [
    "desc=[]\n",
    "for i in page_url[:10]:\n",
    "    driver.get(i)\n",
    "    time.sleep(3)\n",
    "\n",
    "    try:\n",
    "        desc_tag = driver.find_element_by_xpath(\"//section[@class='job-desc']\")\n",
    "        desc.append(desc_tag.text)\n",
    "\n",
    "    except:\n",
    "        desc_tag = driver.find_element_by_xpath(\"//section[@class='getJobDescription JD av_textblock_section']\")\n",
    "        desc.append(desc_tag.text)"
   ]
  },
  {
   "cell_type": "code",
   "execution_count": 47,
   "metadata": {},
   "outputs": [
    {
     "data": {
      "text/plain": [
       "10"
      ]
     },
     "execution_count": 47,
     "metadata": {},
     "output_type": "execute_result"
    }
   ],
   "source": [
    "len(desc)"
   ]
  },
  {
   "cell_type": "code",
   "execution_count": 48,
   "metadata": {},
   "outputs": [
    {
     "data": {
      "text/plain": [
       "['Job description\\nDuties and Responsibilities\\nImplement the application solving customer s issue by applying AI/ML technologies\\nApply ML and DL models for various industry problems.\\nSetting-up collaboration environment and framework for AI related research and development projects.\\nDesign and develop different architectural models for scalable data storage, processing, and large-scale analytics.\\nWork with cross-functional teams to understand technical needs.\\nSet-up big data environment that helps establish rapid POCs and prototype developments on both on-premises and cloud-based platforms.\\nMonitor and optimize performance of the big data ecosystem.\\nEnsure data accessibility to researchers via different programming languages.\\nKeep up to date with state of the art in the industry.\\nQualifications\\nMinimum\\nBachelor s degree in Computer Science with substantial industry experience of 5 years or more of Data Engineering/ETL/Administration experience.\\nHands-on experience in Statistical data analysis and Machine learning\\nPossess significant knowledge of Big Data technologies and tools.\\nGood coding skills in at least one scripting language (Shell, Python, R, etc.)\\nExperience with various Hadoop distribution like Hortonworks and Cloudera.\\nKnowledge of cluster monitoring tools like Ambari, Ganglia, or Nagios.\\nDelivered Big Data solutions in the cloud with AWS or Azure or Google Cloud.\\nExperience in Java programming, Scala programming.\\nExperience with RDBMS (MySQL, PostgreSQL, etc.)\\nExperience with NoSQL database administration development like MongoDB.\\nExperience with Hadoop eco-system (MapReduce, Streaming, Pig, HIVE, Spark).\\nExperience using DevOps toolbox such as Jenkins, Chef, Puppet.\\nProven ability to create and manage big data pipeline using Kafka, Flume Spark\\nKnowledge of BI tools such as Tableau, Pentaho, etc.\\nExperience building large-scale distributed applications and services.\\nExperience with agile development methodologies. -\\nKnowledge of industry standards and trends.\\nGood communication, logical thinking, and presentation skills.\\nAdditional qualifications (preferred but not mandatory)\\nMaster s degree in Computer Science or equivalent with at least 5 years industry experience of data engineering/ETL/Administration.\\nExperience applying Deep learning.\\nSubstantial industry experience developing prototypes and demonstrating PoCs\\nRoleFull Stack Developer\\nIndustry TypeConsumer Electronics & Appliances\\nFunctional AreaEngineering - Software\\nEmployment TypeFull Time, Permanent\\nRole CategorySoftware Development\\nEducation\\nUG :Any Graduate\\nPG :Any Postgraduate\\nKey Skills\\nHiveScalaHadoopBig DataSparkAwsMachine LearningPython',\n",
       " 'Job description\\nWhat You Will Do\\nWork with Data Scientists, Machine Learning Engineers, and Business Users to build, deploy, and scale Data Science solutions on match-making, supply, pricing problems in Gojek that touch the company s baseline\\nUse your experience in Data Science, Machine Learning, Software Engineering, distributed systems to develop these systems, and work with the platform team to take the systems to production\\nWork with Business teams to continuously refine and improve the systems to cater to ever-changing Gojek needs\\nDesign and develop world class Data Science solutions to enhance the current stack of Marketplace algorithms for supply, demand, pricing\\nWhat You Will Need\\nAt least 6 years of experience as a Data Scientist or Machine Learning Engineer, with experience in Python, Golang/Java, and Unix\\nA Bachelors Degree in Computer Science, Statistics, Operations Research, or a relevant quantitative field\\nSolid knowledge of Data Science and Machine Learning fundamentals, with proven experience formulating Data Science solutions to business problems\\nProven ability to recognize business needs and to communicate with multiple stakeholders within the Product Management, Business and Operations teams\\nExperience in taking Data Science models to production\\nPrior academic or industry work experience with forecasting methods like auto-regressive models, Markov models, and Kernel-based methods\\nPrior experience with simulations for modeling the stochastic nature of marketplace supply and demand, and knowledge of the transportation and mobility space\\nRoleTechnical Lead\\nIndustry TypeIT Services & Consulting\\nFunctional AreaEngineering - Software\\nEmployment TypeFull Time, Permanent\\nRole CategorySoftware Development\\nEducation\\nUG :Any Graduate\\nPG :Any Postgraduate\\nKey Skills\\nData ScienceJavaProduct ManagementAlgorithmsCustomer ExperienceSoftware EngineeringData ScientistComputer ScienceMachine LearningPython',\n",
       " 'Job description\\nRoles and Responsibilities\\nPhD in Statistics, Math or Computer Science is preferred. Must have at least a Master degree with 10+ years of experience.\\nExcellent statistical analysis skills to identify patterns in data. This includes having a keen sense of pattern detection and anomaly detection.\\nExcellent understanding of machine learning techniques and algorithms, such as k-NN, Naive Bayes, SVM, Decision Forests, etc.\\nMust be able to implement algorithms and statistical concepts to build predictive models.\\nIn-depth experience with common data science tools such as TensorFlow, PyTorch or equivalent.\\nProficient in programming with python, SQL and No-SQL databases; and data science libraries such as nltk, numpy, scipy and many others\\nGreat communication skills both written and verbal. Must be able to effectively communicate with global English speaking teams.\\nExpertise in collaborating with multi-disciplinary teams of business analysts, data scientists, subject matter experts, and developers\\nDesired Candidate Profile\\n\\n\\nPerks and Benefits\\n\\n\\nRoleTechnical Architect\\nIndustry TypeIT Services & Consulting\\nFunctional AreaEngineering - Software\\nEmployment TypeFull Time, Permanent\\nRole CategorySoftware Development\\nEducation\\nUG :B.Tech/B.E. in Computers, B.Sc in Any Specialization\\nPG :M.Tech in Computers, MS/M.Sc(Science) in Computers\\nDoctorate :Ph.D/Doctorate in Computers, Maths\\nKey Skills\\nTensorflowScipyALGORITHMSVMMachine LearningNumpySQLPytorchNltkAnomaly DetectionData Sciencek-nndecision forestsstatistical conceptsPython',\n",
       " \"Job description\\nSenior Data Scientist, NLP\\nAre you excited about working at the forefront of applied research in an industry setting? Thomson Reuters Labs in Bangalore is seeking experienced data scientists with a passion for solving problems using state-of-the-art Machine Learning and Natural Language Processing.\\nWhat does Thomson Reuters Labs do? We experiment, we build, we deliver. We support the organization and our customers through applied research and the development of new products and technologies. TR Labs innovates collaboratively across our core segments in Legal, Tax & Accounting, Government, and Reuters News.  We undertake a diverse portfolio of projects today while investing in long-term research for the future.\\nAs a data scientist in Labs, you will be part of a global interdisciplinary team of experts. We hire specialists across a variety of AI research areas, as well as Engineering and Design, to drive the company's digital transformation. TR Labs is known for consistently delivering Artificial Intelligence projects that advance the state of the art in support of high growth products and serve Thomson Reuters customers in new and exciting ways.\\n\\nAbout the role\\nIn this opportunity as a Senior Data Scientist, you will:\\nExperiment and Develop: You will drive the entire model development lifecycle, building, testing, and delivering high-quality solutions. You will apply best practices for conducting reproducible research and well-managed software delivery.\\nCollaborate: Working on a collaborative cross-functional team, you will share information, value diverse ideas, and partner effectively with colleagues across the globe. You will elevate and mentor teammates.\\nDeliver: With a strong sense of urgency and the desire to work in a fast-paced, dynamic environment, you will translate complex business problems into projects with a clearly defined scope. Our problems are complex; our solutions are right-sized. You will be accountable for timely, well-managed deliverables.\\nInnovate:  You will be empowered to try new approaches and learn new technologies. You will implement innovative ideas to solve real-world challenges.\\nInspire: You will be a proactive communicator who is excited to share your work. You will be articulate and compelling in describing ideas to both technical and non-technical audiences. You will help lead the way in the adoption of AI across the enterprise.\\n\\nAbout you\\nBasic qualifications\\nPh.D. in a relevant discipline or Masters plus a comparable level of experience\\nAt least five years experience building ML/NLP systems\\nSolid software engineering skills for prototyping\\nExperience as a technical leader, coordinating and guiding the work of others\\nPreferred qualifications\\n8+ years of academic or industry experience building ML or NLP systems with the demonstrated ability to translate cutting edge research into working applications\\nDemonstrated ability to translate customer needs into well-structured research/project plans\\nProficiency in Python, Java, or Scala and experience delivering minimum viable products in a large enterprise environment\\nOutstanding communication, organization, and data-driven decision making\\nPublications at workshops or conferences such as ACL, EMNLP, KDD, ICML, NeurIPS, or similar\\n\\nWhat's in it for you\\nAt Thomson Reuters, our people are our greatest assets. In addition to rewarding and challenging work with exceptional colleagues, we offer the following benefits for your personal and professional growth:\\nLearning & Development: On-the-job coaching & learning, tuition reimbursement, exposure to leading-edge technology\\nOur Scientists and Engineers get to play with big data sets to discover new products, capabilities, and insights for our customers. Thomson Reuters is most well-known for the globally respected Reuters News agency, but our company is also the leading source of information for legal, corporate, and tax professionals. We have over 60,000 TBs worth of legal, regulatory, news, and tax data. \\nBenefits: Flexible work arrangements, comprehensive health coverage effective day one, savings and investment plans\\nPerks: Social events & activities, employee discount programs\\nSocial Impact: Paid time off for volunteering virtually or in your community\\nRoleData Scientist\\nIndustry TypeSoftware Product\\nFunctional AreaData Science & Analytics\\nEmployment TypeFull Time, Permanent\\nRole CategoryData Science & Machine Learning\\nEducation\\nPG :M.Tech in Any Specialization\\nDoctorate :Ph.D/Doctorate in Any Specialization\\nKey Skills\\nJavaNLPAccountingscalaArtificial IntelligenceNatural Language ProcessingBig Datamodel development lifecyclePrototypingMachine LearningPythonModel Development\",\n",
       " \"Job description\\nWe are seeking a Data Scientist to join our growing Analytics & Reporting team with strong hands-on analytical skills who can leverage disparate datasets, ensure data integrity and quality, create innovative solutions, and provide actionable insights to improve quality, service and customer outcomes. The ideal candidate will have experience with database technologies, operational analytics, working knowledge of Artificial Intelligence/Machine Learning (AI/ML) techniques. You will use statistical creativity and intellectual curiosity to create some of the most impressive statistical analyses that will propel our clients to the next level.\\n\\nResponsibilities\\nBe a collaborative member of a group that translates business questions into practical results and actionable insights.\\nAnalyze complex data sets, develop standardized processes, and support various ad-hoc analytic requests like KPI reporting, customer profiling, campaign response analysis, and advanced analytic modeling.\\nWrite programs to cleanse and integrate data in an efficient and reusable manner.\\nEnsure data quality and analytic accuracy before presenting to the stakeholders.\\nImplement and validate predictive and prescriptive models; create and maintain statistical models with a focus on big data.\\nIncorporate a variety of statistical and machine learning techniques in your projects.\\nWork on complex problems and act as a consultant on other ML/ Data engineering projects.\\nProduce accurate data reporting and provide recommendations for improving future reports.\\nProvide insights into channel effectiveness and targeting effectiveness to drive better channel personalization as opportunities to improve program success.\\nEvaluate modelling results and communicate the results to technical and non-technical audiences.\\nResearch emerging tools and techniques in reporting and analytics.\\n\\nQualifications\\nDegree in a highly relevant analytical or technical field, such as statistics, data science, or business analytics.\\n4+ years of direct program and analysis experience in retail with a strong emphasis on answering complex business questions and developing practical solutions.\\nExperience in a data-driven environment providing analytics & insights.\\nKnowledge of predictive analytics, statistical modelling, model interpretation, exploratory data analysis and reporting.\\nExtensive experience with large data sets, statistical analyses, and visualization as well as hands on experience with Python, SQL, and Tableau.\\nAbility to quickly learn and take responsibility to deliver from preferred programming tool.\\n\\nPerks and Benefits\\nBridgetree understands that our people are our true assets, and we go length and breadth to ensure we have a highly engaged and connected working environment. Our values - Integrity, Excellence, Ownership & Accountability, Create Problem Solving, Passion & Here to Help play an important role in defining and shaping Bridgetree's work culture. Quarterly skip-level meetings & annual manager feedback program ensure that employee communication channels are always open.\\nBridgetree also offers the best in Industry perks and benefits. We follow a calendar cycle for performance/salary appraisal and include a great bonus model in pay structure. Additionally, some of the key benefits we offer are:\\nA whole suite of leaves, PL, ML, Paternity, Quarantine, Sabbatical etc, \\nMedical insurance benefits (including COVID hospitalization)\\nLearning and Development - certification reimbursement\\nFull-time WFH\\nVisa sponsorship program\\nSodexo/Zaggle food card options\\nRelocation benefits\\nRoleData Analyst\\nIndustry TypeIT Services & Consulting\\nFunctional AreaData Science & Analytics\\nEmployment TypeFull Time, Permanent\\nRole CategoryBusiness Intelligence & Analytics\\nEducation\\nUG :Any Graduate\\nPG :Any Postgraduate\\nKey Skills\\nData ScienceExploratory Data AnalysisArtificial IntelligenceStatistical ModelingTableauMachine LearningStatisticsPythonPredictive AnalyticsSQL\",\n",
       " 'Job description\\nAbout the role\\nA Data Scientist in Flipkart is required to develop and implement a mix of ML, statistical and optimization models for the various projects formulated from business and product views. The responsible person should be able to communicate and collaborate with multiple stakeholders representing various teams to better understand the problem at hand. At a fundamental level, the responsible person should be able to dive deep into a problem statement and extract interesting insights as well as solutions. In addition to being a quick learner, a DS is expected to get involved in active research projects with a view to publish them.\\nWhat you ll do\\nUnderstand Business and product needs and use ML, statistical and optimization techniques as appropriate to provide solutions to those in a time bound fashion.\\nCommunicate and collaborate with business and product teams to have a better understanding of the project so as to be able to drive it within the DS team.\\nGet involved in in-depth exploration of solutions that are to be shared with business and product teams; specifically, build models and scalable custom algorithms for problems including decision optimization and predictive modeling.\\nActive participation in working with new methods and learning new technologies, in areas including data science and data engineering.\\nWhat you ll need:\\nB.Tech, M.Tech or PhD in CS, Operations Research or related discipline with professional experience ranging from 3 to 6 years through deployed solutions/projects. Candidate should have taken academic coursework in Operations Research (specifically mathematical optimization)\\nDemonstrated experience in building discrete, linear, nonlinear or stochastic optimization models is required. Experience with optimization models for supply chain optimization is preferred but not required\\nDemonstrated experience in utilizing and tuning commercial optimization solvers (e.g. CPLEX, Gurobi) and in building custom optimization algorithms (e.g. exact algorithms, metaheuristics, large neighborhood search, decomposition algorithms, greedy/randomized search) for industry-scale problems is required.\\nGood grasp on the theory and practise of basic statistical models such as regression or clustering and general ML algorithms such as tree, Random Forests, SVM, Boosting, Neural Networks etc. It is not expected that the candidate has actually worked on all these modules.\\nStrong proficiency in Python or R is necessary.\\nRoleResearch Scientist\\nIndustry TypeInternet\\nFunctional AreaResearch & Development\\nEmployment TypeFull Time, Permanent\\nRole CategoryPharmaceutical & Biotechnology\\nEducation\\nUG :B.Tech/B.E.\\nPG :M.Tech\\nKey Skills\\nSupply chainOperations researchdata scienceNeural networksPredictive modelingPython',\n",
       " 'Job Description\\nAs a Data Scientist at IBM, you will help transform our clients data into tangible business value by analyzing information, communicating outcomes and collaborating on product development. Work with Best in Class open source and visual tools, along with the most flexible and scalable deployment options. Whether it s investigating patient trends or weather patterns, you will work to solve real world problems for the industries transforming how we live.\\n\\nYour Role and Responsibilities\\nWork with IBM Q Start team on active exploratory research engagements to prepare for future use case commercialization within specific industry\\nEngage and educate client data science teams to define promising areas for quantum exploration\\nImplement quantum approaches, which includes data pre-/post-processing, running numerics and visualizing data\\nCollaborate with industry and solutioning experts to design and shape experiments to demonstrate quantum-enabled advantage\\nDefine best practices related to information architecture, including collection, integration, organization, analysis and visualization of data for quantum-enabled impact\\nEngage in practice development initiatives focused on building employee knowledge and skills in specific areas of expertise through coaching and development of training course material\\nRequired Technical and Professional Expertise\\nPhD/Masters in STEM-related fields with knowledge in Quantum Computing.\\n5 years of data engineering and data science experience\\n2 years of consulting experience within specific industries with strong domain expertise and business acumen\\nProficiency with classical approaches to machine learning and linear algebra, including Support Vector Machine (SVM) for linear categorization and Singular Value Decomposition (SVD) to reduce dimensionality of data\\nFamiliar with Qiskit software, including Qiskit Aqua for domain applications and Qiskit Terra for quantum circuit design and optimization\\nExcellent ideation, facilitation and communications skills\\nDetail-oriented team player with strong interpersonal skills and ability to take a leadership role when necessary\\nWillingness to travel globally up to 40% once we return to a travel-safe environment.\\nEnglish: Fluent\\nPreferred Technical and Professional Expertise\\n2 years of experience in at least one of the industries, with knowledge of industry trends, R&D areas, and computationally intensive processes (e.g. optimization)\\nFamiliarity with Qiskit',\n",
       " 'Job description\\nIdentify and understand business problems : partner with business stakeholders to understand and communicate on business objectives\\nDefine analytical techniques to solve business challenges\\nProvide data science contribution into the assigned projects\\nBe part of the innovation programs (eg. Semtech, chatbots)\\nMaintain high quality code and documentation\\nAssure efficiency, stability and scalability of the solution\\nCreate deliver easily-consumable presentations to large groups of stakeholders and executives that showcase actionable insights and recommendations\\nTeam Interaction\\nData Scientist interacts with all members of service line she is assigned to in order to develop provide best in class solutions for the business.\\nShe interacts as well with key stakeholders of the business domain business process owners/experts, operations etc. in order to identify business opportunities, discuss test solutions\\nShe interacts also with other service lines as well as Analytics Apps Infrastructure team in order to exchange best practices\\nShe interacts also with Analytics Apps Infrastructure team in order to industrialize data products\\nShe interacts with Global IT department (Schneider Digital) to support the work on Intel Data Store\\n\\n\\n  RoleResearch Scientist\\nIndustry TypeElectrical Equipment\\nFunctional AreaResearch & Development\\nEmployment TypeFull Time, Permanent\\nRole CategoryPharmaceutical & Biotechnology\\nEducation\\nUG :Any Graduate\\nPG :Any Postgraduate\\nKey Skills\\nData ScienceHiveData ScientistHadoopSql ServerBig DataSparkMachine LearningPython',\n",
       " 'Job Description\\nWe are looking for applicants who will thrive in an open, dynamic, flexible, collaborative environment and desire creative freedom and an opportunity to work with high performing teams, who can join in 15 to 20 days.\\nWe are looking for a Data Scientist that will help us discover the information hidden in vast amounts of data for our client projects and help us derive cognitive based solutions for. Your primary focus will be in applying data mining techniques, doing statistical analysis and building high quality prediction systems integrated with our solutions like Automate scoring using machine learning techniques”, “build recommendation systems”, “improve and extend the features used by our existing classifier”, “develop internal A/B testing procedures”, “build system for automated fraud detection”, etc.\\nResponsibilities:\\nSelecting features, building and optimizing classifiers using machine learning techniques\\nData mining using state-of-the-art methods\\nExtending company’s data with third party sources of information when needed\\nEnhancing data collection procedures to include information that is relevant for building analytic systems\\nProcessing, cleansing, and verifying the integrity of data used for analysis\\nDoing ad-hoc analysis and presenting results in a clear manner\\nCreating automated anomaly detection systems and constant tracking of its performance\\nUnderstands the Data science methodologies to the existing enterprise services to bring in the cognitive edge as the differentiators\\nSkills & Qualifications:\\nSolid knowledge of several statistical modeling and learning techniques. Hands on Coding in Azure Databricks, PySparks, Azure AI/ML services and Python/R\\nExpertise in use of algorithmic / quantitative techniques to solve problems across following four areas\\nStructured data analysis and programming\\nUnstructured content mining\\nNatural language processing\\nMachine learning\\nExperience in Azure platform (good to have)\\nTechnically hands-on experience in Azure Machine Learning services, Azure ML Studio, Azure Cognitive toolkit, designing, building and training machines etc.,\\nExcellent understanding of machine learning techniques and algorithms, such as k-NN, Naive Bayes, SVM, Decision Forests, etc.\\nExperience with common data science toolkits, such as Anaconda, NumPy, MatLab, Pandas, Seaborn, SciKit-Learn, NLTK, etc . Excellence in at least one of these is highly desirable\\nGreat communication skills\\nExperience with data visualization tools, such as D3.js, GGplot, etc.\\nGood applied statistics skills, such as distributions, statistical testing, regression, etc.\\nGood scripting and programming skills\\nProficiency in using query languages such as SQL, Hive, Pig etc.,\\nExperience with NoSQL databases, such as MongoDB, Cassandra, HBase\\nExperience working with enterprise architecture for the complex solutions solving business problems and complying to organization policies\\nMaster of Technology in Data Science specialization',\n",
       " 'Job description\\nWorking with multidisciplinary teams to identify, validate, and source required data and tools to develop and mature ML capabilities\\nPerforming data mining to discover nonobvious relationships, building training data, implementing and retraining ML solutions\\nConducting discovery workshops with business partners to identify business problems\\nBuilding visualization dashboards to present metrics, statistical findings, and progress tracking\\nYour Responsibilities\\nCollaborate and work across business units to identify and source the data and technology to build and mature ML capabilities\\nConduct discovery workshops with business partners to identify business problems, obtain and validate training data\\nDesign, Build, implement, and retrain ML models to solve specific business problems\\nPerform data mining and apply findings to increase modeling accuracy\\nCleary and concisely communicate business needs, computational findings and recommendations to all audiences regardless of their background or technical understanding\\nBuild, implement, and maintain visualization dashboards that clearly present both historical and real time operational metrics, research findings, and progress updates\\nBasic Qualifications\\nBachelors degree in Applied Mathematics, Mathematical Engineering, Computer Science, Information Technology, or Related Field\\n10 + years of overall technical experience\\n2+ years of Machine Learning and or Data Mining experience\\n2+ years of experience building visualization dashboards\\n2+ years working with and manipulating large data sets\\n2+ years of hands on development experience using multiple languages\\nPreferred Qualifications\\nMasters degree in Applied Mathematics, Mathematical Engineering, Computer Science, Information Technology, or Related Field\\nExperience with tools such as Tableau and Power BI\\nExperience manipulating large data sets using technologies such as Hadoop, Azure, Hive, Spark, Element, Data Bricks, Mongo, and BigQuery\\nStrong development experience using multiple languages such as Python, R Studio, SQL, C#, Java, Java Script, and Julia\\nSuccessful completion of 2 or more projects (end to end) involving the migration and merging of large data sets from multiple sources, leveraging statistical analysis to identify meaningful and significant data relationships to build, train, and retrain ML models\\nExperience and/or exposure to the cyber security industry and working with a SIEM such as Splunk or Google Chronicle\\nRoleData warehouse Developer / Engineer\\nIndustry TypePharmaceutical & Life Sciences\\nFunctional AreaEngineering - Software\\nEmployment TypeFull Time, Permanent\\nRole CategoryDBA / Data warehousing\\nEducation\\nUG :Any Graduate\\nPG :Any Postgraduate\\nKey Skills\\nProcurementComputer sciencePharmaMachine learningHealthcareData miningOperationsInformation technologySQLPython']"
      ]
     },
     "execution_count": 48,
     "metadata": {},
     "output_type": "execute_result"
    }
   ],
   "source": [
    "desc"
   ]
  },
  {
   "cell_type": "code",
   "execution_count": null,
   "metadata": {},
   "outputs": [],
   "source": [
    "driver.close()"
   ]
  },
  {
   "cell_type": "raw",
   "metadata": {},
   "source": [
    "Q3: In this question you have to scrape data using the filters available on the \n",
    "webpage as shown below:"
   ]
  },
  {
   "cell_type": "code",
   "execution_count": 56,
   "metadata": {},
   "outputs": [],
   "source": [
    "driver=webdriver.Chrome(\"chromedriver.exe\")\n",
    "driver.get(\"https://www.naukri.com/\")"
   ]
  },
  {
   "cell_type": "code",
   "execution_count": 57,
   "metadata": {},
   "outputs": [],
   "source": [
    "search_job = driver.find_element_by_id(\"qsb-keyword-sugg\")\n",
    "search_job.send_keys(\"Data Scientist\")\n",
    "search_btn=driver.find_element_by_xpath(\"//div[@class='search-btn']/button\")\n",
    "search_btn.click()"
   ]
  },
  {
   "cell_type": "code",
   "execution_count": 58,
   "metadata": {},
   "outputs": [],
   "source": [
    "filter_button=driver.find_element_by_xpath(\"/html/body/div[1]/div[3]/div[2]/section[1]/div[2]/div[3]/div[2]/div[3]/label/p/span[1]\")\n",
    "filter_button.click()"
   ]
  },
  {
   "cell_type": "code",
   "execution_count": 59,
   "metadata": {},
   "outputs": [],
   "source": [
    "filter_button=driver.find_element_by_xpath(\"/html/body/div[1]/div[3]/div[2]/section[1]/div[2]/div[4]/div[2]/div[2]/label/p/span[1]\")\n",
    "filter_button.click()"
   ]
  },
  {
   "cell_type": "code",
   "execution_count": 60,
   "metadata": {},
   "outputs": [
    {
     "data": {
      "text/plain": [
       "['Job Opportunity || Data Scientist || HCL Technologies',\n",
       " 'Data Scientist',\n",
       " 'Data Scientist',\n",
       " 'Associate Data Scientist',\n",
       " 'Data Scientist I/II/III',\n",
       " 'Academic Counsellor - Data Scientist',\n",
       " 'Data Scientist',\n",
       " 'Data Scientist',\n",
       " 'Data Scientist',\n",
       " 'Data Scientist Internship']"
      ]
     },
     "execution_count": 60,
     "metadata": {},
     "output_type": "execute_result"
    }
   ],
   "source": [
    "title=driver.find_elements_by_xpath(\"//a[@class='title fw500 ellipsis']\")\n",
    "titles=[]\n",
    "for i in title:\n",
    "    titles.append(i.text)\n",
    "titles[0:10]"
   ]
  },
  {
   "cell_type": "code",
   "execution_count": 61,
   "metadata": {},
   "outputs": [
    {
     "data": {
      "text/plain": [
       "['Delhi / NCR',\n",
       " 'Gurgaon/Gurugram, Bangalore/Bengaluru',\n",
       " 'Gurgaon/Gurugram, Bangalore/Bengaluru',\n",
       " 'Noida',\n",
       " 'Gurgaon/Gurugram',\n",
       " 'Gurgaon/Gurugram, Bangalore/Bengaluru',\n",
       " 'Noida, Gurgaon/Gurugram',\n",
       " 'Gurgaon/Gurugram',\n",
       " 'Mumbai, Delhi / NCR',\n",
       " 'New Delhi']"
      ]
     },
     "execution_count": 61,
     "metadata": {},
     "output_type": "execute_result"
    }
   ],
   "source": [
    "location=driver.find_elements_by_xpath(\"//li[@class='fleft grey-text br2 placeHolderLi location']\")\n",
    "locations=[]\n",
    "for i in location:\n",
    "    locations.append(i.text)\n",
    "locations[0:10]"
   ]
  },
  {
   "cell_type": "code",
   "execution_count": 62,
   "metadata": {},
   "outputs": [
    {
     "data": {
      "text/plain": [
       "['HCL Technologies',\n",
       " 'EXL Services.com ( I ) Pvt. Ltd.',\n",
       " 'Hexagon Geosystems Services India P.Ltd.',\n",
       " 'Optum Global Solutions (India) Private Limited',\n",
       " 'OLX India Pvt Ltd',\n",
       " 'GreatLearning',\n",
       " 'Optum Global Solutions (India) Private Limited',\n",
       " 'Milliman India Pvt Ltd',\n",
       " 'lericon infomatics pvt.ltd',\n",
       " 'iHackers Inc']"
      ]
     },
     "execution_count": 62,
     "metadata": {},
     "output_type": "execute_result"
    }
   ],
   "source": [
    "c_name=driver.find_elements_by_xpath(\"//a[@class='subTitle ellipsis fleft']\")\n",
    "c_names=[]\n",
    "for i in c_name:\n",
    "    c_names.append(i.text)\n",
    "c_names[0:10]"
   ]
  },
  {
   "cell_type": "code",
   "execution_count": 63,
   "metadata": {},
   "outputs": [
    {
     "data": {
      "text/plain": [
       "['4-7 Yrs',\n",
       " '3-5 Yrs',\n",
       " '6-11 Yrs',\n",
       " '2-7 Yrs',\n",
       " '3-6 Yrs',\n",
       " '1-4 Yrs',\n",
       " '2-6 Yrs',\n",
       " '2-5 Yrs',\n",
       " '3-5 Yrs',\n",
       " '0-1 Yrs']"
      ]
     },
     "execution_count": 63,
     "metadata": {},
     "output_type": "execute_result"
    }
   ],
   "source": [
    "exp=driver.find_elements_by_xpath(\"//li[@class='fleft grey-text br2 placeHolderLi experience']\")\n",
    "exps=[]\n",
    "for i in exp:\n",
    "    exps.append(i.text)\n",
    "exps[0:10]"
   ]
  },
  {
   "cell_type": "code",
   "execution_count": 64,
   "metadata": {},
   "outputs": [
    {
     "data": {
      "text/html": [
       "<div>\n",
       "<style scoped>\n",
       "    .dataframe tbody tr th:only-of-type {\n",
       "        vertical-align: middle;\n",
       "    }\n",
       "\n",
       "    .dataframe tbody tr th {\n",
       "        vertical-align: top;\n",
       "    }\n",
       "\n",
       "    .dataframe thead th {\n",
       "        text-align: right;\n",
       "    }\n",
       "</style>\n",
       "<table border=\"1\" class=\"dataframe\">\n",
       "  <thead>\n",
       "    <tr style=\"text-align: right;\">\n",
       "      <th></th>\n",
       "      <th>job_title</th>\n",
       "      <th>location</th>\n",
       "      <th>company_name</th>\n",
       "      <th>experience_required</th>\n",
       "    </tr>\n",
       "  </thead>\n",
       "  <tbody>\n",
       "    <tr>\n",
       "      <th>0</th>\n",
       "      <td>Job Opportunity || Data Scientist || HCL Techn...</td>\n",
       "      <td>Delhi / NCR</td>\n",
       "      <td>HCL Technologies</td>\n",
       "      <td>4-7 Yrs</td>\n",
       "    </tr>\n",
       "    <tr>\n",
       "      <th>1</th>\n",
       "      <td>Data Scientist</td>\n",
       "      <td>Gurgaon/Gurugram, Bangalore/Bengaluru</td>\n",
       "      <td>EXL Services.com ( I ) Pvt. Ltd.</td>\n",
       "      <td>3-5 Yrs</td>\n",
       "    </tr>\n",
       "    <tr>\n",
       "      <th>2</th>\n",
       "      <td>Data Scientist</td>\n",
       "      <td>Gurgaon/Gurugram, Bangalore/Bengaluru</td>\n",
       "      <td>Hexagon Geosystems Services India P.Ltd.</td>\n",
       "      <td>6-11 Yrs</td>\n",
       "    </tr>\n",
       "    <tr>\n",
       "      <th>3</th>\n",
       "      <td>Associate Data Scientist</td>\n",
       "      <td>Noida</td>\n",
       "      <td>Optum Global Solutions (India) Private Limited</td>\n",
       "      <td>2-7 Yrs</td>\n",
       "    </tr>\n",
       "    <tr>\n",
       "      <th>4</th>\n",
       "      <td>Data Scientist I/II/III</td>\n",
       "      <td>Gurgaon/Gurugram</td>\n",
       "      <td>OLX India Pvt Ltd</td>\n",
       "      <td>3-6 Yrs</td>\n",
       "    </tr>\n",
       "    <tr>\n",
       "      <th>5</th>\n",
       "      <td>Academic Counsellor - Data Scientist</td>\n",
       "      <td>Gurgaon/Gurugram, Bangalore/Bengaluru</td>\n",
       "      <td>GreatLearning</td>\n",
       "      <td>1-4 Yrs</td>\n",
       "    </tr>\n",
       "    <tr>\n",
       "      <th>6</th>\n",
       "      <td>Data Scientist</td>\n",
       "      <td>Noida, Gurgaon/Gurugram</td>\n",
       "      <td>Optum Global Solutions (India) Private Limited</td>\n",
       "      <td>2-6 Yrs</td>\n",
       "    </tr>\n",
       "    <tr>\n",
       "      <th>7</th>\n",
       "      <td>Data Scientist</td>\n",
       "      <td>Gurgaon/Gurugram</td>\n",
       "      <td>Milliman India Pvt Ltd</td>\n",
       "      <td>2-5 Yrs</td>\n",
       "    </tr>\n",
       "    <tr>\n",
       "      <th>8</th>\n",
       "      <td>Data Scientist</td>\n",
       "      <td>Mumbai, Delhi / NCR</td>\n",
       "      <td>lericon infomatics pvt.ltd</td>\n",
       "      <td>3-5 Yrs</td>\n",
       "    </tr>\n",
       "    <tr>\n",
       "      <th>9</th>\n",
       "      <td>Data Scientist Internship</td>\n",
       "      <td>New Delhi</td>\n",
       "      <td>iHackers Inc</td>\n",
       "      <td>0-1 Yrs</td>\n",
       "    </tr>\n",
       "  </tbody>\n",
       "</table>\n",
       "</div>"
      ],
      "text/plain": [
       "                                           job_title  \\\n",
       "0  Job Opportunity || Data Scientist || HCL Techn...   \n",
       "1                                     Data Scientist   \n",
       "2                                     Data Scientist   \n",
       "3                           Associate Data Scientist   \n",
       "4                            Data Scientist I/II/III   \n",
       "5               Academic Counsellor - Data Scientist   \n",
       "6                                     Data Scientist   \n",
       "7                                     Data Scientist   \n",
       "8                                     Data Scientist   \n",
       "9                          Data Scientist Internship   \n",
       "\n",
       "                                location  \\\n",
       "0                            Delhi / NCR   \n",
       "1  Gurgaon/Gurugram, Bangalore/Bengaluru   \n",
       "2  Gurgaon/Gurugram, Bangalore/Bengaluru   \n",
       "3                                  Noida   \n",
       "4                       Gurgaon/Gurugram   \n",
       "5  Gurgaon/Gurugram, Bangalore/Bengaluru   \n",
       "6                Noida, Gurgaon/Gurugram   \n",
       "7                       Gurgaon/Gurugram   \n",
       "8                    Mumbai, Delhi / NCR   \n",
       "9                              New Delhi   \n",
       "\n",
       "                                     company_name experience_required  \n",
       "0                                HCL Technologies             4-7 Yrs  \n",
       "1                EXL Services.com ( I ) Pvt. Ltd.             3-5 Yrs  \n",
       "2        Hexagon Geosystems Services India P.Ltd.            6-11 Yrs  \n",
       "3  Optum Global Solutions (India) Private Limited             2-7 Yrs  \n",
       "4                               OLX India Pvt Ltd             3-6 Yrs  \n",
       "5                                   GreatLearning             1-4 Yrs  \n",
       "6  Optum Global Solutions (India) Private Limited             2-6 Yrs  \n",
       "7                          Milliman India Pvt Ltd             2-5 Yrs  \n",
       "8                      lericon infomatics pvt.ltd             3-5 Yrs  \n",
       "9                                    iHackers Inc             0-1 Yrs  "
      ]
     },
     "execution_count": 64,
     "metadata": {},
     "output_type": "execute_result"
    }
   ],
   "source": [
    "df=pd.DataFrame()\n",
    "df[\"job_title\"]=titles[0:10]\n",
    "df[\"location\"]=locations[0:10]\n",
    "df[\"company_name\"]=c_names[0:10]\n",
    "df[\"experience_required\"]=exps[0:10]\n",
    "df"
   ]
  },
  {
   "cell_type": "code",
   "execution_count": null,
   "metadata": {},
   "outputs": [],
   "source": [
    "driver.close()"
   ]
  },
  {
   "cell_type": "raw",
   "metadata": {},
   "source": [
    "Q4: Write a python program to scrape data for first 10 job results for Data scientist \n",
    "Designation in Noida location. You have to scrape company_name, No. of days \n",
    "ago when job was posted, Rating of the company."
   ]
  },
  {
   "cell_type": "code",
   "execution_count": 30,
   "metadata": {},
   "outputs": [],
   "source": [
    "driver=webdriver.Chrome(\"chromedriver.exe\")\n",
    "driver.get(\"https://www.glassdoor.co.in/member/home/index.htm\")"
   ]
  },
  {
   "cell_type": "code",
   "execution_count": 35,
   "metadata": {},
   "outputs": [],
   "source": [
    "search_job = driver.find_element_by_id(\"scKeyword\")\n",
    "search_job.send_keys(\"Data Scientist\")\n",
    "search_loc=driver.find_element_by_xpath(\"//input[@id='scLocation']\")\n",
    "search_loc.send_keys(\"Noida\")"
   ]
  },
  {
   "cell_type": "code",
   "execution_count": 36,
   "metadata": {},
   "outputs": [],
   "source": [
    "search_btn=driver.find_element_by_xpath(\"//button[@class='pl-0 pr-xsm search__SearchStyles__searchKeywordSubmit']\")\n",
    "search_btn.click()"
   ]
  },
  {
   "cell_type": "code",
   "execution_count": 37,
   "metadata": {},
   "outputs": [
    {
     "data": {
      "text/plain": [
       "['Procter & Gamble',\n",
       " 'CommerceIQ',\n",
       " 'Indeed',\n",
       " 'BOEING',\n",
       " 'Shell',\n",
       " 'Top Mentor',\n",
       " 'AIIMS, Delhi',\n",
       " 'AstraZeneca',\n",
       " 'Pixel Vision',\n",
       " 'Kline & Company']"
      ]
     },
     "execution_count": 37,
     "metadata": {},
     "output_type": "execute_result"
    }
   ],
   "source": [
    "c_name=driver.find_elements_by_xpath(\"//div[@class='d-flex justify-content-between align-items-start']\")\n",
    "c_names=[]\n",
    "for i in c_name:\n",
    "    c_names.append(i.text)\n",
    "c_names[0:10]"
   ]
  },
  {
   "cell_type": "code",
   "execution_count": 38,
   "metadata": {},
   "outputs": [
    {
     "data": {
      "text/plain": [
       "['22d', '30d+', '30d+', '12d', '1d', '23d', '24h', '15d', '2d', '24h']"
      ]
     },
     "execution_count": 38,
     "metadata": {},
     "output_type": "execute_result"
    }
   ],
   "source": [
    "day=driver.find_elements_by_xpath(\"//div[@class='d-flex align-items-end pl-std css-17n8uzw']\")\n",
    "days=[]\n",
    "for i in day:\n",
    "    days.append(i.text)\n",
    "days[0:10]"
   ]
  },
  {
   "cell_type": "code",
   "execution_count": 40,
   "metadata": {},
   "outputs": [
    {
     "data": {
      "text/plain": [
       "['4.2', '4.2', '4.3', '3.8', '4.1', '4.5', '4.2', '3.7', '3.9', '3.9']"
      ]
     },
     "execution_count": 40,
     "metadata": {},
     "output_type": "execute_result"
    }
   ],
   "source": [
    "rate=driver.find_elements_by_xpath(\"//span[@class=' job-search-key-srfzj0 e1cjmv6j0']\")\n",
    "rates=[]\n",
    "for i in rate:\n",
    "    rates.append(i.text)\n",
    "rates[0:10]"
   ]
  },
  {
   "cell_type": "code",
   "execution_count": 55,
   "metadata": {},
   "outputs": [
    {
     "data": {
      "text/html": [
       "<div>\n",
       "<style scoped>\n",
       "    .dataframe tbody tr th:only-of-type {\n",
       "        vertical-align: middle;\n",
       "    }\n",
       "\n",
       "    .dataframe tbody tr th {\n",
       "        vertical-align: top;\n",
       "    }\n",
       "\n",
       "    .dataframe thead th {\n",
       "        text-align: right;\n",
       "    }\n",
       "</style>\n",
       "<table border=\"1\" class=\"dataframe\">\n",
       "  <thead>\n",
       "    <tr style=\"text-align: right;\">\n",
       "      <th></th>\n",
       "      <th>Company</th>\n",
       "      <th>Posted</th>\n",
       "      <th>Rating</th>\n",
       "    </tr>\n",
       "  </thead>\n",
       "  <tbody>\n",
       "    <tr>\n",
       "      <th>0</th>\n",
       "      <td>Procter &amp; Gamble</td>\n",
       "      <td>22d</td>\n",
       "      <td>4.2</td>\n",
       "    </tr>\n",
       "    <tr>\n",
       "      <th>1</th>\n",
       "      <td>CommerceIQ</td>\n",
       "      <td>30d+</td>\n",
       "      <td>4.2</td>\n",
       "    </tr>\n",
       "    <tr>\n",
       "      <th>2</th>\n",
       "      <td>Indeed</td>\n",
       "      <td>30d+</td>\n",
       "      <td>4.3</td>\n",
       "    </tr>\n",
       "    <tr>\n",
       "      <th>3</th>\n",
       "      <td>BOEING</td>\n",
       "      <td>12d</td>\n",
       "      <td>3.8</td>\n",
       "    </tr>\n",
       "    <tr>\n",
       "      <th>4</th>\n",
       "      <td>Shell</td>\n",
       "      <td>1d</td>\n",
       "      <td>4.1</td>\n",
       "    </tr>\n",
       "    <tr>\n",
       "      <th>5</th>\n",
       "      <td>Top Mentor</td>\n",
       "      <td>23d</td>\n",
       "      <td>4.5</td>\n",
       "    </tr>\n",
       "    <tr>\n",
       "      <th>6</th>\n",
       "      <td>AIIMS, Delhi</td>\n",
       "      <td>24h</td>\n",
       "      <td>4.2</td>\n",
       "    </tr>\n",
       "    <tr>\n",
       "      <th>7</th>\n",
       "      <td>AstraZeneca</td>\n",
       "      <td>15d</td>\n",
       "      <td>3.7</td>\n",
       "    </tr>\n",
       "    <tr>\n",
       "      <th>8</th>\n",
       "      <td>Pixel Vision</td>\n",
       "      <td>2d</td>\n",
       "      <td>3.9</td>\n",
       "    </tr>\n",
       "    <tr>\n",
       "      <th>9</th>\n",
       "      <td>Kline &amp; Company</td>\n",
       "      <td>24h</td>\n",
       "      <td>3.9</td>\n",
       "    </tr>\n",
       "  </tbody>\n",
       "</table>\n",
       "</div>"
      ],
      "text/plain": [
       "            Company Posted Rating\n",
       "0  Procter & Gamble    22d    4.2\n",
       "1        CommerceIQ   30d+    4.2\n",
       "2            Indeed   30d+    4.3\n",
       "3            BOEING    12d    3.8\n",
       "4             Shell     1d    4.1\n",
       "5        Top Mentor    23d    4.5\n",
       "6      AIIMS, Delhi    24h    4.2\n",
       "7       AstraZeneca    15d    3.7\n",
       "8      Pixel Vision     2d    3.9\n",
       "9   Kline & Company    24h    3.9"
      ]
     },
     "execution_count": 55,
     "metadata": {},
     "output_type": "execute_result"
    }
   ],
   "source": [
    "df=pd.DataFrame()\n",
    "df[\"Company\"]=c_names[0:10]\n",
    "df[\"Posted\"]=days[0:10]\n",
    "df[\"Rating\"]=rates[0:10]\n",
    "df"
   ]
  },
  {
   "cell_type": "code",
   "execution_count": 42,
   "metadata": {},
   "outputs": [],
   "source": [
    "driver.close()"
   ]
  },
  {
   "cell_type": "raw",
   "metadata": {},
   "source": [
    "Q5: Write a python program to scrape the salary data for Data Scientist designation \n",
    "in Noida location.\n",
    " min salary, max salary, company \n",
    "name, Average salary and rating of the company"
   ]
  },
  {
   "cell_type": "code",
   "execution_count": 54,
   "metadata": {},
   "outputs": [],
   "source": [
    "driver=webdriver.Chrome(\"chromedriver.exe\")\n",
    "driver.get(\" https://www.glassdoor.co.in/Salaries/index.htm\")"
   ]
  },
  {
   "cell_type": "code",
   "execution_count": 58,
   "metadata": {},
   "outputs": [],
   "source": [
    "search_job = driver.find_element_by_id(\"KeywordSearch\")\n",
    "search_job.send_keys(\"Data Scientist\")\n",
    "search_loc=driver.find_element_by_xpath(\"//input[@id='LocationSearch']\")\n",
    "search_loc.send_keys(\"Noida\")"
   ]
  },
  {
   "cell_type": "code",
   "execution_count": 59,
   "metadata": {},
   "outputs": [],
   "source": [
    "search_btn=driver.find_element_by_xpath(\"//button[@class='gd-btn-mkt']\")\n",
    "search_btn.click()"
   ]
  },
  {
   "cell_type": "code",
   "execution_count": 60,
   "metadata": {},
   "outputs": [
    {
     "data": {
      "text/plain": [
       "['Tata Consultancy Services',\n",
       " 'IBM',\n",
       " 'Accenture',\n",
       " 'Ericsson-Worldwide',\n",
       " 'Delhivery',\n",
       " 'UnitedHealth Group',\n",
       " 'EXL Service',\n",
       " 'Optum',\n",
       " 'ZS Associates',\n",
       " 'Optum Global Solutions']"
      ]
     },
     "execution_count": 60,
     "metadata": {},
     "output_type": "execute_result"
    }
   ],
   "source": [
    "c_name=driver.find_elements_by_xpath(\"//a[@class='css-f3vw95 e1aj7ssy3']\")\n",
    "c_names=[]\n",
    "for i in c_name:\n",
    "    c_names.append(i.text)\n",
    "c_names[0:10]"
   ]
  },
  {
   "cell_type": "code",
   "execution_count": 62,
   "metadata": {},
   "outputs": [
    {
     "data": {
      "text/plain": [
       "['Range: ₹4L - ₹13L',\n",
       " 'Range: ₹1L - ₹28L',\n",
       " 'Range: ₹6L - ₹23L',\n",
       " 'Range: ₹4L - ₹17L',\n",
       " 'Range: ₹5L - ₹1Cr',\n",
       " 'Range: ₹8L - ₹16L',\n",
       " 'Range: ₹6L - ₹20L',\n",
       " 'Range: ₹8L - ₹20L',\n",
       " 'Range: ₹2L - ₹22L',\n",
       " 'Range: ₹10L - ₹18L']"
      ]
     },
     "execution_count": 62,
     "metadata": {},
     "output_type": "execute_result"
    }
   ],
   "source": [
    "range_=driver.find_elements_by_xpath(\"//span[@class='d-block d-lg-none m-0 css-1b6bxoo']\")\n",
    "ranges=[]\n",
    "for i in range_:\n",
    "    ranges.append(i.text)\n",
    "ranges[0:10]"
   ]
  },
  {
   "cell_type": "code",
   "execution_count": 65,
   "metadata": {},
   "outputs": [
    {
     "data": {
      "text/plain": [
       "['₹6,31,184yr',\n",
       " '₹9,08,246yr',\n",
       " '₹12,13,338yr',\n",
       " '₹7,61,766yr',\n",
       " '₹12,49,716yr',\n",
       " '₹12,80,000yr',\n",
       " '₹12,42,519yr',\n",
       " '₹12,70,000yr',\n",
       " '₹11,71,868yr',\n",
       " '₹14,55,430yr']"
      ]
     },
     "execution_count": 65,
     "metadata": {},
     "output_type": "execute_result"
    }
   ],
   "source": [
    "avg=driver.find_elements_by_xpath(\"//div[@class='col-12 col-lg-4 px-lg-0 d-flex align-items-baseline']\")\n",
    "avgs=[]\n",
    "for i in avg:\n",
    "    avgs.append(i.text.strip().replace(\"\\n /\",\"\"))\n",
    "avgs[0:10]"
   ]
  },
  {
   "cell_type": "code",
   "execution_count": 66,
   "metadata": {},
   "outputs": [
    {
     "data": {
      "text/plain": [
       "['3.9', '3.9', '4.1', '4', '3.7', '3.7', '3.6', '3.7', '4', '3.9']"
      ]
     },
     "execution_count": 66,
     "metadata": {},
     "output_type": "execute_result"
    }
   ],
   "source": [
    "rate=driver.find_elements_by_xpath(\"//span[@class='m-0 css-kyx745']\")\n",
    "rates=[]\n",
    "for i in rate:\n",
    "    rates.append(i.text)\n",
    "rates[0:10]"
   ]
  },
  {
   "cell_type": "code",
   "execution_count": 67,
   "metadata": {},
   "outputs": [
    {
     "data": {
      "text/html": [
       "<div>\n",
       "<style scoped>\n",
       "    .dataframe tbody tr th:only-of-type {\n",
       "        vertical-align: middle;\n",
       "    }\n",
       "\n",
       "    .dataframe tbody tr th {\n",
       "        vertical-align: top;\n",
       "    }\n",
       "\n",
       "    .dataframe thead th {\n",
       "        text-align: right;\n",
       "    }\n",
       "</style>\n",
       "<table border=\"1\" class=\"dataframe\">\n",
       "  <thead>\n",
       "    <tr style=\"text-align: right;\">\n",
       "      <th></th>\n",
       "      <th>Company</th>\n",
       "      <th>Salary Range</th>\n",
       "      <th>Average Salary</th>\n",
       "      <th>Rating</th>\n",
       "    </tr>\n",
       "  </thead>\n",
       "  <tbody>\n",
       "    <tr>\n",
       "      <th>0</th>\n",
       "      <td>Tata Consultancy Services</td>\n",
       "      <td>Range: ₹4L - ₹13L</td>\n",
       "      <td>₹6,31,184yr</td>\n",
       "      <td>3.9</td>\n",
       "    </tr>\n",
       "    <tr>\n",
       "      <th>1</th>\n",
       "      <td>IBM</td>\n",
       "      <td>Range: ₹1L - ₹28L</td>\n",
       "      <td>₹9,08,246yr</td>\n",
       "      <td>3.9</td>\n",
       "    </tr>\n",
       "    <tr>\n",
       "      <th>2</th>\n",
       "      <td>Accenture</td>\n",
       "      <td>Range: ₹6L - ₹23L</td>\n",
       "      <td>₹12,13,338yr</td>\n",
       "      <td>4.1</td>\n",
       "    </tr>\n",
       "    <tr>\n",
       "      <th>3</th>\n",
       "      <td>Ericsson-Worldwide</td>\n",
       "      <td>Range: ₹4L - ₹17L</td>\n",
       "      <td>₹7,61,766yr</td>\n",
       "      <td>4</td>\n",
       "    </tr>\n",
       "    <tr>\n",
       "      <th>4</th>\n",
       "      <td>Delhivery</td>\n",
       "      <td>Range: ₹5L - ₹1Cr</td>\n",
       "      <td>₹12,49,716yr</td>\n",
       "      <td>3.7</td>\n",
       "    </tr>\n",
       "    <tr>\n",
       "      <th>5</th>\n",
       "      <td>UnitedHealth Group</td>\n",
       "      <td>Range: ₹8L - ₹16L</td>\n",
       "      <td>₹12,80,000yr</td>\n",
       "      <td>3.7</td>\n",
       "    </tr>\n",
       "    <tr>\n",
       "      <th>6</th>\n",
       "      <td>EXL Service</td>\n",
       "      <td>Range: ₹6L - ₹20L</td>\n",
       "      <td>₹12,42,519yr</td>\n",
       "      <td>3.6</td>\n",
       "    </tr>\n",
       "    <tr>\n",
       "      <th>7</th>\n",
       "      <td>Optum</td>\n",
       "      <td>Range: ₹8L - ₹20L</td>\n",
       "      <td>₹12,70,000yr</td>\n",
       "      <td>3.7</td>\n",
       "    </tr>\n",
       "    <tr>\n",
       "      <th>8</th>\n",
       "      <td>ZS Associates</td>\n",
       "      <td>Range: ₹2L - ₹22L</td>\n",
       "      <td>₹11,71,868yr</td>\n",
       "      <td>4</td>\n",
       "    </tr>\n",
       "    <tr>\n",
       "      <th>9</th>\n",
       "      <td>Optum Global Solutions</td>\n",
       "      <td>Range: ₹10L - ₹18L</td>\n",
       "      <td>₹14,55,430yr</td>\n",
       "      <td>3.9</td>\n",
       "    </tr>\n",
       "  </tbody>\n",
       "</table>\n",
       "</div>"
      ],
      "text/plain": [
       "                     Company        Salary Range Average Salary Rating\n",
       "0  Tata Consultancy Services   Range: ₹4L - ₹13L    ₹6,31,184yr    3.9\n",
       "1                        IBM   Range: ₹1L - ₹28L    ₹9,08,246yr    3.9\n",
       "2                  Accenture   Range: ₹6L - ₹23L   ₹12,13,338yr    4.1\n",
       "3         Ericsson-Worldwide   Range: ₹4L - ₹17L    ₹7,61,766yr      4\n",
       "4                  Delhivery   Range: ₹5L - ₹1Cr   ₹12,49,716yr    3.7\n",
       "5         UnitedHealth Group   Range: ₹8L - ₹16L   ₹12,80,000yr    3.7\n",
       "6                EXL Service   Range: ₹6L - ₹20L   ₹12,42,519yr    3.6\n",
       "7                      Optum   Range: ₹8L - ₹20L   ₹12,70,000yr    3.7\n",
       "8              ZS Associates   Range: ₹2L - ₹22L   ₹11,71,868yr      4\n",
       "9     Optum Global Solutions  Range: ₹10L - ₹18L   ₹14,55,430yr    3.9"
      ]
     },
     "execution_count": 67,
     "metadata": {},
     "output_type": "execute_result"
    }
   ],
   "source": [
    "df=pd.DataFrame()\n",
    "df[\"Company\"]=c_names[0:10]\n",
    "df[\"Salary Range\"]=ranges[0:10]\n",
    "df[\"Average Salary\"]=avgs[0:10]\n",
    "df[\"Rating\"]=rates[0:10]\n",
    "df"
   ]
  },
  {
   "cell_type": "code",
   "execution_count": 68,
   "metadata": {},
   "outputs": [],
   "source": [
    "driver.close()"
   ]
  },
  {
   "cell_type": "raw",
   "metadata": {},
   "source": [
    "Q6 : Scrape data of first 100 sunglasses listings on flipkart.com. You have to \n",
    "scrape four attributes:\n",
    "1. Brand\n",
    "2. Product Description\n",
    "3. Price\n",
    "4. Discount %"
   ]
  },
  {
   "cell_type": "code",
   "execution_count": 67,
   "metadata": {},
   "outputs": [],
   "source": [
    "driver=webdriver.Chrome(\"chromedriver.exe\")\n",
    "driver.get(\"https://www.flipkart.com/\")"
   ]
  },
  {
   "cell_type": "code",
   "execution_count": 68,
   "metadata": {},
   "outputs": [],
   "source": [
    "login_pop=driver.find_element_by_xpath(\"//button[@class='_2KpZ6l _2doB4z']\")\n",
    "login_pop.click()\n",
    "search_job = driver.find_element_by_xpath(\"//input[@placeholder='Search for products, brands and more']\")\n",
    "search_job.send_keys(\"sunglasses\")"
   ]
  },
  {
   "cell_type": "code",
   "execution_count": 69,
   "metadata": {},
   "outputs": [],
   "source": [
    "search_btn=driver.find_element_by_xpath(\"//button[@class='L0Z3Pu']\")\n",
    "search_btn.click()"
   ]
  },
  {
   "cell_type": "code",
   "execution_count": 87,
   "metadata": {},
   "outputs": [],
   "source": [
    "import time\n",
    "names=[]\n",
    "for i in range(3):\n",
    "    time.sleep(5) \n",
    "    name=driver.find_elements_by_xpath(\"//div[@class='_2WkVRV']\")\n",
    "    for j in name:\n",
    "        names.append(j.text)\n",
    "     \n",
    "    try:\n",
    "        next_=driver.find_element_by_xpath(\"/html/body/div[1]/div/div[3]/div[1]/div[2]/div[12]/div/div/nav/a[11]/span\")\n",
    "    except:\n",
    "        next_=driver.find_element_by_xpath(\"/html/body/div[1]/div/div[3]/div[1]/div[2]/div[12]/div/div/nav/a[12]/span\")\n",
    "        \n",
    "    next_.click()            "
   ]
  },
  {
   "cell_type": "code",
   "execution_count": 89,
   "metadata": {},
   "outputs": [
    {
     "data": {
      "text/plain": [
       "['ROYAL SON',\n",
       " 'AISLIN',\n",
       " 'Fastrack',\n",
       " 'PIRASO',\n",
       " 'PIRASO',\n",
       " 'Elligator',\n",
       " 'Fastrack',\n",
       " 'ROZZETTA CRAFT',\n",
       " 'SHAAH COLLECTIONS',\n",
       " 'PIRASO',\n",
       " 'Fastrack',\n",
       " 'ROYAL SON',\n",
       " 'New Specs',\n",
       " 'Fastrack',\n",
       " 'Fastrack',\n",
       " 'ROZZETTA CRAFT',\n",
       " 'ROZZETTA CRAFT',\n",
       " 'Fastrack',\n",
       " 'Fastrack',\n",
       " 'AISLIN',\n",
       " 'Singco India',\n",
       " 'Elligator',\n",
       " 'Rich Club',\n",
       " 'ROYAL SON',\n",
       " 'kingsunglasses',\n",
       " 'Fastrack',\n",
       " 'Singco India',\n",
       " 'ROYAL SON',\n",
       " 'PHENOMENAL',\n",
       " 'NuVew',\n",
       " 'kingsunglasses',\n",
       " 'ROYAL SON',\n",
       " 'Fastrack',\n",
       " 'SHAAH COLLECTIONS',\n",
       " 'NuVew',\n",
       " 'ROYAL SON',\n",
       " 'Fastrack',\n",
       " 'GANSTA',\n",
       " 'GANSTA',\n",
       " 'ROYAL SON',\n",
       " 'GANSTA',\n",
       " 'SHAAH COLLECTIONS',\n",
       " 'Silver Kartz',\n",
       " 'VINCENT CHASE',\n",
       " 'ROYAL SON',\n",
       " 'kingsunglasses',\n",
       " 'GANSTA',\n",
       " 'VINCENT CHASE',\n",
       " 'Fastrack',\n",
       " 'SUNBEE',\n",
       " 'PIRASO',\n",
       " 'VINCENT CHASE',\n",
       " 'Silver Kartz',\n",
       " 'Singco India',\n",
       " 'Fastrack',\n",
       " 'VINCENT CHASE',\n",
       " 'IDEE',\n",
       " 'ROZZETTA CRAFT',\n",
       " 'GANSTA',\n",
       " 'VINCENT CHASE',\n",
       " 'Fastrack',\n",
       " 'NuVew',\n",
       " 'Elligator',\n",
       " 'ROYAL SON',\n",
       " 'IDEE',\n",
       " 'IDEE',\n",
       " 'Fastrack',\n",
       " 'VINCENT CHASE',\n",
       " 'elegante',\n",
       " 'PHENOMENAL',\n",
       " 'Fastrack',\n",
       " 'AISLIN',\n",
       " 'Fastrack',\n",
       " 'Fastrack',\n",
       " 'Fastrack',\n",
       " 'VINCENT CHASE',\n",
       " 'WROGN',\n",
       " 'povty',\n",
       " 'ROYAL SON',\n",
       " 'VINCENT CHASE',\n",
       " 'hipe',\n",
       " 'ROZZETTA CRAFT',\n",
       " 'Fastrack',\n",
       " 'VINCENT CHASE',\n",
       " 'ROYAL SON',\n",
       " 'Fastrack',\n",
       " 'United Colors of Benetton',\n",
       " 'Villain',\n",
       " 'Fastrack',\n",
       " 'GANSTA',\n",
       " 'Fastrack',\n",
       " 'ROZZETTA CRAFT',\n",
       " 'Fastrack',\n",
       " 'WROGN',\n",
       " 'Fastrack',\n",
       " 'VINCENT CHASE',\n",
       " 'PHENOMENAL',\n",
       " 'IDEE',\n",
       " 'PIRASO',\n",
       " 'ROZZETTA CRAFT',\n",
       " 'Fastrack',\n",
       " 'hipe',\n",
       " 'New Specs',\n",
       " 'VINCENT CHASE',\n",
       " 'ROZZETTA CRAFT',\n",
       " 'Fastrack',\n",
       " 'NuVew',\n",
       " 'ROYAL SON',\n",
       " 'HIPPON',\n",
       " 'PIRASO',\n",
       " 'IDEE',\n",
       " 'AISLIN',\n",
       " 'ROYAL SON',\n",
       " 'PHENOMENAL',\n",
       " 'ROYAL SON',\n",
       " 'ROZZETTA CRAFT',\n",
       " 'Fastrack',\n",
       " 'Fastrack',\n",
       " 'AISLIN',\n",
       " 'ROYAL SON']"
      ]
     },
     "execution_count": 89,
     "metadata": {},
     "output_type": "execute_result"
    }
   ],
   "source": [
    "names"
   ]
  },
  {
   "cell_type": "code",
   "execution_count": 90,
   "metadata": {},
   "outputs": [],
   "source": [
    "descs=[]\n",
    "for i in range(3):\n",
    "    time.sleep(5) \n",
    "    desc=driver.find_elements_by_xpath(\"//a[@class='IRpwTa']\")\n",
    "    for j in desc:\n",
    "        descs.append(j.text)\n",
    "     \n",
    "    try:\n",
    "        next_=driver.find_element_by_xpath(\"/html/body/div[1]/div/div[3]/div[1]/div[2]/div[12]/div/div/nav/a[11]/span\")\n",
    "    except:\n",
    "        next_=driver.find_element_by_xpath(\"/html/body/div[1]/div/div[3]/div[1]/div[2]/div[12]/div/div/nav/a[12]/span\")\n",
    "        \n",
    "    next_.click()            "
   ]
  },
  {
   "cell_type": "code",
   "execution_count": 91,
   "metadata": {},
   "outputs": [
    {
     "data": {
      "text/plain": [
       "['UV Protection, Gradient Round Sunglasses (Free Size)',\n",
       " 'UV Protection, Gradient Round, Cat-eye Sunglasses (60)',\n",
       " 'UV Protection Wayfarer Sunglasses (Free Size)',\n",
       " 'UV Protection Aviator Sunglasses (54)',\n",
       " 'UV Protection Aviator Sunglasses (54)',\n",
       " 'UV Protection Round Sunglasses (54)',\n",
       " 'Gradient, UV Protection Wayfarer Sunglasses (Free Size)',\n",
       " 'UV Protection, Gradient Round Sunglasses (Free Size)',\n",
       " 'UV Protection, Polarized, Mirrored Rectangular Sunglass...',\n",
       " 'UV Protection Aviator Sunglasses (54)',\n",
       " 'UV Protection Shield Sunglasses (Free Size)',\n",
       " 'Polarized, UV Protection, Mirrored Aviator Sunglasses (...',\n",
       " 'Mirrored, UV Protection, Riding Glasses, Others Round S...',\n",
       " 'UV Protection Wayfarer Sunglasses (Free Size)',\n",
       " 'Mirrored, UV Protection Wayfarer Sunglasses (Free Size)',\n",
       " 'UV Protection, Gradient Round, Cat-eye Sunglasses (60)',\n",
       " 'UV Protection Retro Square Sunglasses (Free Size)',\n",
       " 'Gradient, UV Protection Wayfarer Sunglasses (Free Size)',\n",
       " 'UV Protection Aviator Sunglasses (Free Size)',\n",
       " 'UV Protection, Gradient Retro Square Sunglasses (Free S...',\n",
       " 'UV Protection, Riding Glasses, Others Aviator, Wayfarer...',\n",
       " 'UV Protection Round Sunglasses (55)',\n",
       " 'Polarized Round Sunglasses (48)',\n",
       " 'UV Protection Over-sized Sunglasses (60)',\n",
       " 'Mirrored, UV Protection Wayfarer Sunglasses (Free Size)',\n",
       " 'UV Protection Aviator Sunglasses (Free Size)',\n",
       " 'UV Protection Aviator Sunglasses (Free Size)',\n",
       " 'Polarized, UV Protection Wrap-around Sunglasses (60)',\n",
       " 'UV Protection Retro Square Sunglasses (Free Size)',\n",
       " 'UV Protection, Night Vision, Riding Glasses Sports Sung...',\n",
       " 'Mirrored, UV Protection Wayfarer, Wayfarer, Wayfarer, W...',\n",
       " 'UV Protection, Gradient Butterfly Sunglasses (57)',\n",
       " 'UV Protection Rectangular Sunglasses (Free Size)',\n",
       " 'UV Protection Round Sunglasses (Free Size)',\n",
       " 'UV Protection, Mirrored Aviator Sunglasses (58)',\n",
       " 'Polarized, UV Protection Aviator Sunglasses (58)',\n",
       " 'UV Protection Aviator Sunglasses (58)',\n",
       " 'UV Protection, Night Vision, Riding Glasses Aviator Sun...',\n",
       " 'UV Protection Aviator Sunglasses (57)',\n",
       " 'Night Vision Aviator Sunglasses (59)',\n",
       " 'UV Protection, Polarized, Mirrored Rectangular Sunglass...',\n",
       " 'UV Protection Aviator Sunglasses (57)',\n",
       " 'UV Protection, Night Vision, Riding Glasses Aviator Sun...',\n",
       " 'UV Protection Aviator Sunglasses (57)',\n",
       " 'UV Protection Round Sunglasses (54)',\n",
       " 'Gradient, UV Protection Wayfarer Sunglasses (Free Size)',\n",
       " 'UV Protection, Polarized, Mirrored Wayfarer Sunglasses ...',\n",
       " 'UV Protection, Riding Glasses Wayfarer Sunglasses (53)',\n",
       " 'UV Protection Wayfarer Sunglasses (Free Size)',\n",
       " 'UV Protection Round Sunglasses (Free Size)',\n",
       " 'UV Protection Aviator Sunglasses (58)',\n",
       " 'UV Protection Wayfarer Sunglasses (Free Size)',\n",
       " 'UV Protection, Mirrored Wayfarer Sunglasses (53)',\n",
       " 'Mirrored, UV Protection Aviator Sunglasses (18)',\n",
       " 'UV Protection, Gradient Rectangular Sunglasses (Free Si...',\n",
       " 'UV Protection Wayfarer Sunglasses (Free Size)',\n",
       " 'UV Protection Wayfarer Sunglasses (Free Size)',\n",
       " 'Gradient, UV Protection Aviator Sunglasses (58)',\n",
       " 'UV Protection Wayfarer Sunglasses (18)',\n",
       " 'UV Protection Sports Sunglasses (62)',\n",
       " 'Mirrored Round Sunglasses (Free Size)',\n",
       " 'UV Protection, Mirrored Retro Square Sunglasses (53)',\n",
       " 'UV Protection Round Sunglasses (53)',\n",
       " 'UV Protection Wayfarer Sunglasses (55)',\n",
       " 'UV Protection Wayfarer Sunglasses (57)',\n",
       " 'UV Protection Aviator Sunglasses (Free Size)',\n",
       " 'Polarized Oval Sunglasses (55)',\n",
       " 'UV Protection Wayfarer Sunglasses (Free Size)',\n",
       " 'UV Protection Wayfarer Sunglasses (Free Size)',\n",
       " 'UV Protection, Gradient Wayfarer Sunglasses (55)',\n",
       " 'Mirrored, UV Protection, Gradient Round Sunglasses (55)',\n",
       " 'UV Protection, Gradient Rectangular Sunglasses (Free Si...',\n",
       " 'UV Protection Aviator Sunglasses (58)',\n",
       " 'Mirrored Aviator Sunglasses (55)',\n",
       " 'UV Protection Rectangular Sunglasses (56)',\n",
       " 'UV Protection, Gradient Wayfarer Sunglasses (53)',\n",
       " 'UV Protection Round Sunglasses (52)',\n",
       " 'UV Protection Sports Sunglasses (Free Size)',\n",
       " 'Mirrored, UV Protection Aviator Sunglasses (57)',\n",
       " 'Gradient, UV Protection Wayfarer Sunglasses (Free Size)',\n",
       " 'UV Protection, Gradient, Mirrored, Riding Glasses Aviat...',\n",
       " 'UV Protection Oval Sunglasses (Free Size)',\n",
       " 'UV Protection Wayfarer Sunglasses (55)',\n",
       " 'UV Protection, Mirrored, Gradient Retro Square Sunglass...',\n",
       " 'UV Protection Butterfly Sunglasses (65)',\n",
       " 'UV Protection Wayfarer Sunglasses (56)',\n",
       " 'UV Protection Wayfarer Sunglasses (Free Size)',\n",
       " 'UV Protection Rectangular Sunglasses (Free Size)',\n",
       " 'UV Protection, Mirrored Sports Sunglasses (62)',\n",
       " 'UV Protection, Gradient Retro Square Sunglasses (Free S...',\n",
       " 'UV Protection Wayfarer Sunglasses (55)',\n",
       " 'UV Protection Aviator Sunglasses (Free Size)',\n",
       " 'UV Protection Wayfarer Sunglasses (Free Size)',\n",
       " 'UV Protection Rectangular Sunglasses (58)',\n",
       " 'UV Protection Aviator Sunglasses (Free Size)',\n",
       " 'UV Protection Wayfarer Sunglasses (50)',\n",
       " 'UV Protection Retro Square Sunglasses (88)',\n",
       " 'UV Protection Round Sunglasses (53)',\n",
       " 'UV Protection Round Sunglasses (52)',\n",
       " 'UV Protection, Gradient Butterfly, Retro Square Sunglas...',\n",
       " 'UV Protection Wayfarer Sunglasses (52)',\n",
       " 'UV Protection Wayfarer Sunglasses (Free Size)',\n",
       " 'UV Protection Wayfarer Sunglasses (54)',\n",
       " 'UV Protection Oval Sunglasses (56)',\n",
       " 'Mirrored, UV Protection Wayfarer Sunglasses (Free Size)',\n",
       " 'Mirrored, Riding Glasses, Others Sports Sunglasses (50)',\n",
       " 'UV Protection, Riding Glasses, Mirrored Wayfarer Sungla...',\n",
       " 'UV Protection Rectangular Sunglasses (60)',\n",
       " 'UV Protection Aviator Sunglasses (18)',\n",
       " 'UV Protection Rectangular Sunglasses (Free Size)',\n",
       " 'Polarized Retro Square Sunglasses (59)',\n",
       " 'Night Vision, Riding Glasses Wayfarer Sunglasses (53)',\n",
       " 'Polarized, UV Protection Aviator Sunglasses (58)',\n",
       " 'Gradient Retro Square Sunglasses (58)',\n",
       " 'UV Protection Round Sunglasses (52)',\n",
       " 'UV Protection Oval Sunglasses (60)',\n",
       " 'UV Protection Aviator Sunglasses (58)',\n",
       " 'UV Protection Rectangular Sunglasses (59)',\n",
       " 'Polarized, UV Protection Retro Square Sunglasses (53)',\n",
       " 'UV Protection, Gradient Butterfly Sunglasses (52)']"
      ]
     },
     "execution_count": 91,
     "metadata": {},
     "output_type": "execute_result"
    }
   ],
   "source": [
    "descs"
   ]
  },
  {
   "cell_type": "code",
   "execution_count": 93,
   "metadata": {},
   "outputs": [],
   "source": [
    "prices=[]\n",
    "for i in range(3):\n",
    "    time.sleep(5) \n",
    "    price=driver.find_elements_by_xpath(\"//div[@class='_30jeq3']\")\n",
    "    for j in price:\n",
    "        prices.append(j.text)\n",
    "     \n",
    "    try:\n",
    "        next_=driver.find_element_by_xpath(\"/html/body/div[1]/div/div[3]/div[1]/div[2]/div[12]/div/div/nav/a[11]/span\")\n",
    "    except:\n",
    "        next_=driver.find_element_by_xpath(\"/html/body/div[1]/div/div[3]/div[1]/div[2]/div[12]/div/div/nav/a[12]/span\")\n",
    "        \n",
    "    next_.click()            "
   ]
  },
  {
   "cell_type": "code",
   "execution_count": 100,
   "metadata": {},
   "outputs": [],
   "source": [
    "discounts=[]\n",
    "for i in range(3):\n",
    "    time.sleep(5) \n",
    "    discount=driver.find_elements_by_xpath(\"//div[@class='_3Ay6Sb']\")\n",
    "    for j in discount:\n",
    "        discounts.append(j.text)\n",
    "     \n",
    "    try:\n",
    "        next_=driver.find_element_by_xpath(\"/html/body/div[1]/div/div[3]/div[1]/div[2]/div[12]/div/div/nav/a[11]/span\")\n",
    "    except:\n",
    "        next_=driver.find_element_by_xpath(\"/html/body/div[1]/div/div[3]/div[1]/div[2]/div[12]/div/div/nav/a[12]/span\")\n",
    "        \n",
    "    next_.click()            "
   ]
  },
  {
   "cell_type": "code",
   "execution_count": 102,
   "metadata": {},
   "outputs": [
    {
     "data": {
      "text/html": [
       "<div>\n",
       "<style scoped>\n",
       "    .dataframe tbody tr th:only-of-type {\n",
       "        vertical-align: middle;\n",
       "    }\n",
       "\n",
       "    .dataframe tbody tr th {\n",
       "        vertical-align: top;\n",
       "    }\n",
       "\n",
       "    .dataframe thead th {\n",
       "        text-align: right;\n",
       "    }\n",
       "</style>\n",
       "<table border=\"1\" class=\"dataframe\">\n",
       "  <thead>\n",
       "    <tr style=\"text-align: right;\">\n",
       "      <th></th>\n",
       "      <th>product</th>\n",
       "      <th>description</th>\n",
       "      <th>price</th>\n",
       "      <th>discount</th>\n",
       "    </tr>\n",
       "  </thead>\n",
       "  <tbody>\n",
       "    <tr>\n",
       "      <th>0</th>\n",
       "      <td>ROYAL SON</td>\n",
       "      <td>UV Protection, Gradient Round Sunglasses (Free...</td>\n",
       "      <td>₹1,039</td>\n",
       "      <td>15% off</td>\n",
       "    </tr>\n",
       "    <tr>\n",
       "      <th>1</th>\n",
       "      <td>AISLIN</td>\n",
       "      <td>UV Protection, Gradient Round, Cat-eye Sunglas...</td>\n",
       "      <td>₹758</td>\n",
       "      <td>87% off</td>\n",
       "    </tr>\n",
       "    <tr>\n",
       "      <th>2</th>\n",
       "      <td>Fastrack</td>\n",
       "      <td>UV Protection Wayfarer Sunglasses (Free Size)</td>\n",
       "      <td>₹200</td>\n",
       "      <td>87% off</td>\n",
       "    </tr>\n",
       "    <tr>\n",
       "      <th>3</th>\n",
       "      <td>PIRASO</td>\n",
       "      <td>UV Protection Aviator Sunglasses (54)</td>\n",
       "      <td>₹200</td>\n",
       "      <td>88% off</td>\n",
       "    </tr>\n",
       "    <tr>\n",
       "      <th>4</th>\n",
       "      <td>PIRASO</td>\n",
       "      <td>UV Protection Aviator Sunglasses (54)</td>\n",
       "      <td>₹295</td>\n",
       "      <td>36% off</td>\n",
       "    </tr>\n",
       "    <tr>\n",
       "      <th>...</th>\n",
       "      <td>...</td>\n",
       "      <td>...</td>\n",
       "      <td>...</td>\n",
       "      <td>...</td>\n",
       "    </tr>\n",
       "    <tr>\n",
       "      <th>95</th>\n",
       "      <td>VINCENT CHASE</td>\n",
       "      <td>UV Protection Wayfarer Sunglasses (50)</td>\n",
       "      <td>₹207</td>\n",
       "      <td>81% off</td>\n",
       "    </tr>\n",
       "    <tr>\n",
       "      <th>96</th>\n",
       "      <td>PHENOMENAL</td>\n",
       "      <td>UV Protection Retro Square Sunglasses (88)</td>\n",
       "      <td>₹217</td>\n",
       "      <td>73% off</td>\n",
       "    </tr>\n",
       "    <tr>\n",
       "      <th>97</th>\n",
       "      <td>IDEE</td>\n",
       "      <td>UV Protection Round Sunglasses (53)</td>\n",
       "      <td>₹186</td>\n",
       "      <td>80% off</td>\n",
       "    </tr>\n",
       "    <tr>\n",
       "      <th>98</th>\n",
       "      <td>PIRASO</td>\n",
       "      <td>UV Protection Round Sunglasses (52)</td>\n",
       "      <td>₹2,450</td>\n",
       "      <td>73% off</td>\n",
       "    </tr>\n",
       "    <tr>\n",
       "      <th>99</th>\n",
       "      <td>ROZZETTA CRAFT</td>\n",
       "      <td>UV Protection, Gradient Butterfly, Retro Squar...</td>\n",
       "      <td>₹378</td>\n",
       "      <td>90% off</td>\n",
       "    </tr>\n",
       "  </tbody>\n",
       "</table>\n",
       "<p>100 rows × 4 columns</p>\n",
       "</div>"
      ],
      "text/plain": [
       "           product                                        description   price  \\\n",
       "0        ROYAL SON  UV Protection, Gradient Round Sunglasses (Free...  ₹1,039   \n",
       "1           AISLIN  UV Protection, Gradient Round, Cat-eye Sunglas...    ₹758   \n",
       "2         Fastrack      UV Protection Wayfarer Sunglasses (Free Size)    ₹200   \n",
       "3           PIRASO              UV Protection Aviator Sunglasses (54)    ₹200   \n",
       "4           PIRASO              UV Protection Aviator Sunglasses (54)    ₹295   \n",
       "..             ...                                                ...     ...   \n",
       "95   VINCENT CHASE             UV Protection Wayfarer Sunglasses (50)    ₹207   \n",
       "96      PHENOMENAL         UV Protection Retro Square Sunglasses (88)    ₹217   \n",
       "97            IDEE                UV Protection Round Sunglasses (53)    ₹186   \n",
       "98          PIRASO                UV Protection Round Sunglasses (52)  ₹2,450   \n",
       "99  ROZZETTA CRAFT  UV Protection, Gradient Butterfly, Retro Squar...    ₹378   \n",
       "\n",
       "   discount  \n",
       "0   15% off  \n",
       "1   87% off  \n",
       "2   87% off  \n",
       "3   88% off  \n",
       "4   36% off  \n",
       "..      ...  \n",
       "95  81% off  \n",
       "96  73% off  \n",
       "97  80% off  \n",
       "98  73% off  \n",
       "99  90% off  \n",
       "\n",
       "[100 rows x 4 columns]"
      ]
     },
     "execution_count": 102,
     "metadata": {},
     "output_type": "execute_result"
    }
   ],
   "source": [
    "df=pd.DataFrame()\n",
    "df[\"product\"]=names[0:100]\n",
    "df[\"description\"]=descs[0:100]\n",
    "df[\"price\"]=prices[0:100]\n",
    "df[\"discount\"]=discounts[0:100]\n",
    "df"
   ]
  },
  {
   "cell_type": "code",
   "execution_count": 106,
   "metadata": {},
   "outputs": [],
   "source": [
    "driver.close()"
   ]
  },
  {
   "cell_type": "raw",
   "metadata": {},
   "source": [
    "Q7: Scrape 100 reviews data from flipkart.com for iphone11 phone."
   ]
  },
  {
   "cell_type": "code",
   "execution_count": 108,
   "metadata": {},
   "outputs": [],
   "source": [
    "driver=webdriver.Chrome(\"chromedriver.exe\")\n",
    "driver.get(\"https://www.flipkart.com/apple-iphone-11-black-64-gb-includes\u0002earpods-power\u0002adapter/p/itm0f37c2240b217?pid=MOBFKCTSVZAXUHGR&lid=LSTMOBFKC\")"
   ]
  },
  {
   "cell_type": "code",
   "execution_count": 109,
   "metadata": {},
   "outputs": [],
   "source": [
    "all_results=driver.find_element_by_xpath(\"//div[@class='_3UAT2v _16PBlm']\")\n",
    "all_results.click()"
   ]
  },
  {
   "cell_type": "code",
   "execution_count": 115,
   "metadata": {},
   "outputs": [],
   "source": [
    "ratings=[]\n",
    "for i in range(11):\n",
    "    time.sleep(5) \n",
    "    rating=driver.find_elements_by_xpath(\"//div[@class='_3LWZlK _1BLPMq']\")\n",
    "    for j in rating:\n",
    "        ratings.append(j.text)\n",
    "     \n",
    "    try:\n",
    "        next_=driver.find_element_by_xpath(\"/html/body/div[1]/div/div[3]/div/div/div[2]/div[13]/div/div/nav/a[11]/span\")\n",
    "    except:\n",
    "        next_=driver.find_element_by_xpath(\"/html/body/div[1]/div/div[3]/div/div/div[2]/div[13]/div/div/nav/a[12]/span\")\n",
    "        \n",
    "    next_.click()            "
   ]
  },
  {
   "cell_type": "code",
   "execution_count": 118,
   "metadata": {},
   "outputs": [],
   "source": [
    "reviews=[]\n",
    "for i in range(11):\n",
    "    time.sleep(5) \n",
    "    review=driver.find_elements_by_xpath(\"//p[@class='_2-N8zT']\")\n",
    "    for j in review:\n",
    "        reviews.append(j.text)\n",
    "     \n",
    "    try:\n",
    "        next_=driver.find_element_by_xpath(\"/html/body/div[1]/div/div[3]/div/div/div[2]/div[13]/div/div/nav/a[11]/span\")\n",
    "    except:\n",
    "        next_=driver.find_element_by_xpath(\"/html/body/div[1]/div/div[3]/div/div/div[2]/div[13]/div/div/nav/a[12]/span\")\n",
    "        \n",
    "    next_.click()            "
   ]
  },
  {
   "cell_type": "code",
   "execution_count": 120,
   "metadata": {},
   "outputs": [],
   "source": [
    "f_reviews=[]\n",
    "for i in range(11):\n",
    "    time.sleep(5) \n",
    "    f_review=driver.find_elements_by_xpath(\"//div[@class='t-ZTKy']\")\n",
    "    for j in f_review:\n",
    "        f_reviews.append(j.text)\n",
    "     \n",
    "    try:\n",
    "        next_=driver.find_element_by_xpath(\"/html/body/div[1]/div/div[3]/div/div/div[2]/div[13]/div/div/nav/a[11]/span\")\n",
    "    except:\n",
    "        next_=driver.find_element_by_xpath(\"/html/body/div[1]/div/div[3]/div/div/div[2]/div[13]/div/div/nav/a[12]/span\")\n",
    "        \n",
    "    next_.click()            "
   ]
  },
  {
   "cell_type": "code",
   "execution_count": 122,
   "metadata": {},
   "outputs": [
    {
     "data": {
      "text/html": [
       "<div>\n",
       "<style scoped>\n",
       "    .dataframe tbody tr th:only-of-type {\n",
       "        vertical-align: middle;\n",
       "    }\n",
       "\n",
       "    .dataframe tbody tr th {\n",
       "        vertical-align: top;\n",
       "    }\n",
       "\n",
       "    .dataframe thead th {\n",
       "        text-align: right;\n",
       "    }\n",
       "</style>\n",
       "<table border=\"1\" class=\"dataframe\">\n",
       "  <thead>\n",
       "    <tr style=\"text-align: right;\">\n",
       "      <th></th>\n",
       "      <th>ratings</th>\n",
       "      <th>review</th>\n",
       "      <th>full review</th>\n",
       "    </tr>\n",
       "  </thead>\n",
       "  <tbody>\n",
       "    <tr>\n",
       "      <th>0</th>\n",
       "      <td>5</td>\n",
       "      <td>Brilliant</td>\n",
       "      <td>The Best Phone for the Money\\n\\nThe iPhone 11 ...</td>\n",
       "    </tr>\n",
       "    <tr>\n",
       "      <th>1</th>\n",
       "      <td>5</td>\n",
       "      <td>Simply awesome</td>\n",
       "      <td>Really satisfied with the Product I received.....</td>\n",
       "    </tr>\n",
       "    <tr>\n",
       "      <th>2</th>\n",
       "      <td>5</td>\n",
       "      <td>Perfect product!</td>\n",
       "      <td>Amazing phone with great cameras and better ba...</td>\n",
       "    </tr>\n",
       "    <tr>\n",
       "      <th>3</th>\n",
       "      <td>5</td>\n",
       "      <td>Fabulous!</td>\n",
       "      <td>This is my first iOS phone. I am very happy wi...</td>\n",
       "    </tr>\n",
       "    <tr>\n",
       "      <th>4</th>\n",
       "      <td>5</td>\n",
       "      <td>Best in the market!</td>\n",
       "      <td>Great iPhone very snappy experience as apple k...</td>\n",
       "    </tr>\n",
       "    <tr>\n",
       "      <th>...</th>\n",
       "      <td>...</td>\n",
       "      <td>...</td>\n",
       "      <td>...</td>\n",
       "    </tr>\n",
       "    <tr>\n",
       "      <th>95</th>\n",
       "      <td>5</td>\n",
       "      <td>Wonderful</td>\n",
       "      <td>Best and amazing product.....phone looks so pr...</td>\n",
       "    </tr>\n",
       "    <tr>\n",
       "      <th>96</th>\n",
       "      <td>5</td>\n",
       "      <td>Great product</td>\n",
       "      <td>Excellent camera and display touching very nic...</td>\n",
       "    </tr>\n",
       "    <tr>\n",
       "      <th>97</th>\n",
       "      <td>5</td>\n",
       "      <td>Very Good</td>\n",
       "      <td>I got this beast today. And I must say the pic...</td>\n",
       "    </tr>\n",
       "    <tr>\n",
       "      <th>98</th>\n",
       "      <td>4</td>\n",
       "      <td>Classy product</td>\n",
       "      <td>Awesome purchase. Amazing phone with good batt...</td>\n",
       "    </tr>\n",
       "    <tr>\n",
       "      <th>99</th>\n",
       "      <td>5</td>\n",
       "      <td>Perfect product!</td>\n",
       "      <td>Always love the apple products, upgraded from ...</td>\n",
       "    </tr>\n",
       "  </tbody>\n",
       "</table>\n",
       "<p>100 rows × 3 columns</p>\n",
       "</div>"
      ],
      "text/plain": [
       "   ratings               review  \\\n",
       "0        5            Brilliant   \n",
       "1        5       Simply awesome   \n",
       "2        5     Perfect product!   \n",
       "3        5            Fabulous!   \n",
       "4        5  Best in the market!   \n",
       "..     ...                  ...   \n",
       "95       5            Wonderful   \n",
       "96       5        Great product   \n",
       "97       5            Very Good   \n",
       "98       4       Classy product   \n",
       "99       5     Perfect product!   \n",
       "\n",
       "                                          full review  \n",
       "0   The Best Phone for the Money\\n\\nThe iPhone 11 ...  \n",
       "1   Really satisfied with the Product I received.....  \n",
       "2   Amazing phone with great cameras and better ba...  \n",
       "3   This is my first iOS phone. I am very happy wi...  \n",
       "4   Great iPhone very snappy experience as apple k...  \n",
       "..                                                ...  \n",
       "95  Best and amazing product.....phone looks so pr...  \n",
       "96  Excellent camera and display touching very nic...  \n",
       "97  I got this beast today. And I must say the pic...  \n",
       "98  Awesome purchase. Amazing phone with good batt...  \n",
       "99  Always love the apple products, upgraded from ...  \n",
       "\n",
       "[100 rows x 3 columns]"
      ]
     },
     "execution_count": 122,
     "metadata": {},
     "output_type": "execute_result"
    }
   ],
   "source": [
    "df=pd.DataFrame()\n",
    "df[\"ratings\"]=ratings[0:100]\n",
    "df[\"review\"]=reviews[0:100]\n",
    "df[\"full review\"]=f_reviews[0:100]\n",
    "df"
   ]
  },
  {
   "cell_type": "code",
   "execution_count": 123,
   "metadata": {},
   "outputs": [],
   "source": [
    "driver.close()"
   ]
  },
  {
   "cell_type": "raw",
   "metadata": {},
   "source": [
    "Q8: Scrape data for first 100 sneakers you find when you visit flipkart.com and \n",
    "search for “sneakers” in the search field."
   ]
  },
  {
   "cell_type": "code",
   "execution_count": 124,
   "metadata": {},
   "outputs": [],
   "source": [
    "driver=webdriver.Chrome(\"chromedriver.exe\")\n",
    "driver.get(\"https://www.flipkart.com/\")"
   ]
  },
  {
   "cell_type": "code",
   "execution_count": 125,
   "metadata": {},
   "outputs": [],
   "source": [
    "login_pop=driver.find_element_by_xpath(\"//button[@class='_2KpZ6l _2doB4z']\")\n",
    "login_pop.click()\n",
    "search_job = driver.find_element_by_xpath(\"//input[@placeholder='Search for products, brands and more']\")\n",
    "search_job.send_keys(\"sneakers\")"
   ]
  },
  {
   "cell_type": "code",
   "execution_count": 126,
   "metadata": {},
   "outputs": [],
   "source": [
    "search_btn=driver.find_element_by_xpath(\"//button[@class='L0Z3Pu']\")\n",
    "search_btn.click()"
   ]
  },
  {
   "cell_type": "code",
   "execution_count": 127,
   "metadata": {},
   "outputs": [],
   "source": [
    "names=[]\n",
    "for i in range(3):\n",
    "    time.sleep(5) \n",
    "    name=driver.find_elements_by_xpath(\"//div[@class='_2WkVRV']\")\n",
    "    for j in name:\n",
    "        names.append(j.text)\n",
    "     \n",
    "    try:\n",
    "        next_=driver.find_element_by_xpath(\"/html/body/div[1]/div/div[3]/div[1]/div[2]/div[12]/div/div/nav/a[11]/span\")\n",
    "    except:\n",
    "        next_=driver.find_element_by_xpath(\"/html/body/div[1]/div/div[3]/div[1]/div[2]/div[12]/div/div/nav/a[12]/span\")\n",
    "        \n",
    "    next_.click()            "
   ]
  },
  {
   "cell_type": "code",
   "execution_count": 131,
   "metadata": {},
   "outputs": [],
   "source": [
    "descs=[]\n",
    "for i in range(3):\n",
    "    time.sleep(5) \n",
    "    desc=driver.find_elements_by_xpath(\"//a[@class='IRpwTa']\")\n",
    "    for j in desc:\n",
    "        descs.append(j.text)\n",
    "     \n",
    "    try:\n",
    "        next_=driver.find_element_by_xpath(\"/html/body/div[1]/div/div[3]/div[1]/div[2]/div[12]/div/div/nav/a[11]/span\")\n",
    "    except:\n",
    "        next_=driver.find_element_by_xpath(\"/html/body/div[1]/div/div[3]/div[1]/div[2]/div[12]/div/div/nav/a[12]/span\")\n",
    "        \n",
    "    next_.click()            "
   ]
  },
  {
   "cell_type": "code",
   "execution_count": 133,
   "metadata": {},
   "outputs": [],
   "source": [
    "prices=[]\n",
    "for i in range(3):\n",
    "    time.sleep(5) \n",
    "    price=driver.find_elements_by_xpath(\"//div[@class='_30jeq3']\")\n",
    "    for j in price:\n",
    "        prices.append(j.text)\n",
    "     \n",
    "    try:\n",
    "        next_=driver.find_element_by_xpath(\"/html/body/div[1]/div/div[3]/div[1]/div[2]/div[12]/div/div/nav/a[11]/span\")\n",
    "    except:\n",
    "        next_=driver.find_element_by_xpath(\"/html/body/div[1]/div/div[3]/div[1]/div[2]/div[12]/div/div/nav/a[12]/span\")\n",
    "        \n",
    "    next_.click()            "
   ]
  },
  {
   "cell_type": "code",
   "execution_count": 136,
   "metadata": {},
   "outputs": [],
   "source": [
    "discounts=[]\n",
    "for i in range(3):\n",
    "    time.sleep(5) \n",
    "    discount=driver.find_elements_by_xpath(\"//div[@class='_3Ay6Sb']\")\n",
    "    for j in discount:\n",
    "        discounts.append(j.text)\n",
    "     \n",
    "    try:\n",
    "        next_=driver.find_element_by_xpath(\"/html/body/div[1]/div/div[3]/div[1]/div[2]/div[12]/div/div/nav/a[11]/span\")\n",
    "    except:\n",
    "        next_=driver.find_element_by_xpath(\"/html/body/div[1]/div/div[3]/div[1]/div[2]/div[12]/div/div/nav/a[12]/span\")\n",
    "        \n",
    "    next_.click()            "
   ]
  },
  {
   "cell_type": "code",
   "execution_count": 138,
   "metadata": {},
   "outputs": [
    {
     "data": {
      "text/html": [
       "<div>\n",
       "<style scoped>\n",
       "    .dataframe tbody tr th:only-of-type {\n",
       "        vertical-align: middle;\n",
       "    }\n",
       "\n",
       "    .dataframe tbody tr th {\n",
       "        vertical-align: top;\n",
       "    }\n",
       "\n",
       "    .dataframe thead th {\n",
       "        text-align: right;\n",
       "    }\n",
       "</style>\n",
       "<table border=\"1\" class=\"dataframe\">\n",
       "  <thead>\n",
       "    <tr style=\"text-align: right;\">\n",
       "      <th></th>\n",
       "      <th>product</th>\n",
       "      <th>description</th>\n",
       "      <th>price</th>\n",
       "      <th>discount</th>\n",
       "    </tr>\n",
       "  </thead>\n",
       "  <tbody>\n",
       "    <tr>\n",
       "      <th>0</th>\n",
       "      <td>Chevit</td>\n",
       "      <td>Combo Pack of 4 Casual Sneakers With Sneakers ...</td>\n",
       "      <td>₹554</td>\n",
       "      <td>72% off</td>\n",
       "    </tr>\n",
       "    <tr>\n",
       "      <th>1</th>\n",
       "      <td>ZF - ALFIYA</td>\n",
       "      <td>Modern Trendy Sneakers Shoes Sneakers For Men</td>\n",
       "      <td>₹449</td>\n",
       "      <td>55% off</td>\n",
       "    </tr>\n",
       "    <tr>\n",
       "      <th>2</th>\n",
       "      <td>BRUTON</td>\n",
       "      <td>Casual , Partywear Sneakers Shoes For Men's An...</td>\n",
       "      <td>₹379</td>\n",
       "      <td>70% off</td>\n",
       "    </tr>\n",
       "    <tr>\n",
       "      <th>3</th>\n",
       "      <td>D-SNEAKERZ</td>\n",
       "      <td>Combo Pack Of 4 Casual Shoes Loafer Shoes Snea...</td>\n",
       "      <td>₹348</td>\n",
       "      <td>47% off</td>\n",
       "    </tr>\n",
       "    <tr>\n",
       "      <th>4</th>\n",
       "      <td>BRUTON</td>\n",
       "      <td>Sneakers For Men</td>\n",
       "      <td>₹699</td>\n",
       "      <td>80% off</td>\n",
       "    </tr>\n",
       "    <tr>\n",
       "      <th>...</th>\n",
       "      <td>...</td>\n",
       "      <td>...</td>\n",
       "      <td>...</td>\n",
       "      <td>...</td>\n",
       "    </tr>\n",
       "    <tr>\n",
       "      <th>95</th>\n",
       "      <td>bacca bucci</td>\n",
       "      <td>Anzarun FS Sneakers For Men</td>\n",
       "      <td>₹949</td>\n",
       "      <td>55% off</td>\n",
       "    </tr>\n",
       "    <tr>\n",
       "      <th>96</th>\n",
       "      <td>Nobelite</td>\n",
       "      <td>New Fashion Outdoor Trendy Lightweight Casual,...</td>\n",
       "      <td>₹579</td>\n",
       "      <td>18% off</td>\n",
       "    </tr>\n",
       "    <tr>\n",
       "      <th>97</th>\n",
       "      <td>Kraasa</td>\n",
       "      <td>Combo Pack of 5 Casual Shoes Sneakers For Men</td>\n",
       "      <td>₹1,959</td>\n",
       "      <td>50% off</td>\n",
       "    </tr>\n",
       "    <tr>\n",
       "      <th>98</th>\n",
       "      <td>PUMA</td>\n",
       "      <td>Platform Chunky Trainer/Sneakers -EBONY Mid To...</td>\n",
       "      <td>₹428</td>\n",
       "      <td>78% off</td>\n",
       "    </tr>\n",
       "    <tr>\n",
       "      <th>99</th>\n",
       "      <td>KLAVER KING</td>\n",
       "      <td>Sneakers For Men</td>\n",
       "      <td>₹1,329</td>\n",
       "      <td>58% off</td>\n",
       "    </tr>\n",
       "  </tbody>\n",
       "</table>\n",
       "<p>100 rows × 4 columns</p>\n",
       "</div>"
      ],
      "text/plain": [
       "        product                                        description   price  \\\n",
       "0        Chevit  Combo Pack of 4 Casual Sneakers With Sneakers ...    ₹554   \n",
       "1   ZF - ALFIYA      Modern Trendy Sneakers Shoes Sneakers For Men    ₹449   \n",
       "2        BRUTON  Casual , Partywear Sneakers Shoes For Men's An...    ₹379   \n",
       "3    D-SNEAKERZ  Combo Pack Of 4 Casual Shoes Loafer Shoes Snea...    ₹348   \n",
       "4        BRUTON                                   Sneakers For Men    ₹699   \n",
       "..          ...                                                ...     ...   \n",
       "95  bacca bucci                        Anzarun FS Sneakers For Men    ₹949   \n",
       "96     Nobelite  New Fashion Outdoor Trendy Lightweight Casual,...    ₹579   \n",
       "97       Kraasa      Combo Pack of 5 Casual Shoes Sneakers For Men  ₹1,959   \n",
       "98         PUMA  Platform Chunky Trainer/Sneakers -EBONY Mid To...    ₹428   \n",
       "99  KLAVER KING                                   Sneakers For Men  ₹1,329   \n",
       "\n",
       "   discount  \n",
       "0   72% off  \n",
       "1   55% off  \n",
       "2   70% off  \n",
       "3   47% off  \n",
       "4   80% off  \n",
       "..      ...  \n",
       "95  55% off  \n",
       "96  18% off  \n",
       "97  50% off  \n",
       "98  78% off  \n",
       "99  58% off  \n",
       "\n",
       "[100 rows x 4 columns]"
      ]
     },
     "execution_count": 138,
     "metadata": {},
     "output_type": "execute_result"
    }
   ],
   "source": [
    "df=pd.DataFrame()\n",
    "df[\"product\"]=names[0:100]\n",
    "df[\"description\"]=descs[0:100]\n",
    "df[\"price\"]=prices[0:100]\n",
    "df[\"discount\"]=discounts[0:100]\n",
    "df"
   ]
  },
  {
   "cell_type": "code",
   "execution_count": 139,
   "metadata": {},
   "outputs": [],
   "source": [
    "driver.close()"
   ]
  },
  {
   "cell_type": "raw",
   "metadata": {},
   "source": [
    "Q9: Go to the link - https://www.myntra.com/shoes\n",
    "Set Price filter to “Rs. 6649 to Rs. 13099” , Color filter to “Black”, as shown in \n",
    "the below image"
   ]
  },
  {
   "cell_type": "code",
   "execution_count": 141,
   "metadata": {},
   "outputs": [],
   "source": [
    "driver=webdriver.Chrome(\"chromedriver.exe\")\n",
    "driver.get(\"https://www.myntra.com/shoes\")"
   ]
  },
  {
   "cell_type": "code",
   "execution_count": 145,
   "metadata": {},
   "outputs": [],
   "source": [
    "filter_button=driver.find_element_by_xpath(\"/html/body/div[2]/div/div[1]/main/div[3]/div[1]/section/div/div[5]/ul/li[2]/label\")\n",
    "filter_button.click()"
   ]
  },
  {
   "cell_type": "code",
   "execution_count": 144,
   "metadata": {},
   "outputs": [],
   "source": [
    "filter_button=driver.find_element_by_xpath(\"/html/body/div[2]/div/div[1]/main/div[3]/div[1]/section/div/div[6]/ul/li[1]/label\")\n",
    "filter_button.click()"
   ]
  },
  {
   "cell_type": "code",
   "execution_count": 146,
   "metadata": {},
   "outputs": [],
   "source": [
    "names=[]\n",
    "for i in range(3):\n",
    "    time.sleep(5) \n",
    "    name=driver.find_elements_by_xpath(\"//h3[@class='product-brand']\")\n",
    "    for j in name:\n",
    "        names.append(j.text)\n",
    "    next_=driver.find_element_by_xpath(\"//a[@rel='next']\")\n",
    "    next_.click()"
   ]
  },
  {
   "cell_type": "code",
   "execution_count": 147,
   "metadata": {},
   "outputs": [
    {
     "data": {
      "text/plain": [
       "150"
      ]
     },
     "execution_count": 147,
     "metadata": {},
     "output_type": "execute_result"
    }
   ],
   "source": [
    "len(names)"
   ]
  },
  {
   "cell_type": "code",
   "execution_count": 149,
   "metadata": {},
   "outputs": [],
   "source": [
    "descs=[]\n",
    "for i in range(3):\n",
    "    time.sleep(5) \n",
    "    desc=driver.find_elements_by_xpath(\"//h4[@class='product-product']\")\n",
    "    for j in desc:\n",
    "        descs.append(j.text)\n",
    "    next_=driver.find_element_by_xpath(\"//a[@rel='next']\")\n",
    "    next_.click()"
   ]
  },
  {
   "cell_type": "code",
   "execution_count": 151,
   "metadata": {},
   "outputs": [],
   "source": [
    "prices=[]\n",
    "for i in range(3):\n",
    "    time.sleep(5) \n",
    "    price=driver.find_elements_by_xpath(\"//div[@class='product-price']\")\n",
    "    for j in price:\n",
    "        prices.append(j.text)\n",
    "    next_=driver.find_element_by_xpath(\"//a[@rel='next']\")\n",
    "    next_.click()    "
   ]
  },
  {
   "cell_type": "code",
   "execution_count": 153,
   "metadata": {},
   "outputs": [
    {
     "data": {
      "text/html": [
       "<div>\n",
       "<style scoped>\n",
       "    .dataframe tbody tr th:only-of-type {\n",
       "        vertical-align: middle;\n",
       "    }\n",
       "\n",
       "    .dataframe tbody tr th {\n",
       "        vertical-align: top;\n",
       "    }\n",
       "\n",
       "    .dataframe thead th {\n",
       "        text-align: right;\n",
       "    }\n",
       "</style>\n",
       "<table border=\"1\" class=\"dataframe\">\n",
       "  <thead>\n",
       "    <tr style=\"text-align: right;\">\n",
       "      <th></th>\n",
       "      <th>product</th>\n",
       "      <th>description</th>\n",
       "      <th>price</th>\n",
       "    </tr>\n",
       "  </thead>\n",
       "  <tbody>\n",
       "    <tr>\n",
       "      <th>0</th>\n",
       "      <td>ALDO</td>\n",
       "      <td>Leather Solid Loafers</td>\n",
       "      <td>Rs. 10499Rs. 14999(30% OFF)</td>\n",
       "    </tr>\n",
       "    <tr>\n",
       "      <th>1</th>\n",
       "      <td>Puma</td>\n",
       "      <td>Men Jamming 2.0 Running Shoes</td>\n",
       "      <td>Rs. 10399Rs. 12999(20% OFF)</td>\n",
       "    </tr>\n",
       "    <tr>\n",
       "      <th>2</th>\n",
       "      <td>Nike</td>\n",
       "      <td>Men Zoom Span 4 Running Shoes</td>\n",
       "      <td>Rs. 7195</td>\n",
       "    </tr>\n",
       "    <tr>\n",
       "      <th>3</th>\n",
       "      <td>PUMA Motorsport</td>\n",
       "      <td>Unisex Scuderia Ferrari Shoes</td>\n",
       "      <td>Rs. 7999Rs. 9999(20% OFF)</td>\n",
       "    </tr>\n",
       "    <tr>\n",
       "      <th>4</th>\n",
       "      <td>PUMA Motorsport</td>\n",
       "      <td>Unisex Mercedes F1 Sneakers</td>\n",
       "      <td>Rs. 7999Rs. 9999(20% OFF)</td>\n",
       "    </tr>\n",
       "    <tr>\n",
       "      <th>...</th>\n",
       "      <td>...</td>\n",
       "      <td>...</td>\n",
       "      <td>...</td>\n",
       "    </tr>\n",
       "    <tr>\n",
       "      <th>95</th>\n",
       "      <td>ADIDAS</td>\n",
       "      <td>Women GT-2000 9 Running Shoes</td>\n",
       "      <td>Rs. 8399Rs. 11999(30% OFF)</td>\n",
       "    </tr>\n",
       "    <tr>\n",
       "      <th>96</th>\n",
       "      <td>ASICS</td>\n",
       "      <td>Men Textured Leather Monks</td>\n",
       "      <td>Rs. 6990</td>\n",
       "    </tr>\n",
       "    <tr>\n",
       "      <th>97</th>\n",
       "      <td>Geox</td>\n",
       "      <td>Men Printed Sneakers</td>\n",
       "      <td>Rs. 6999</td>\n",
       "    </tr>\n",
       "    <tr>\n",
       "      <th>98</th>\n",
       "      <td>Ruosh</td>\n",
       "      <td>Women Textured Leather Loafers</td>\n",
       "      <td>Rs. 6920Rs. 6990(1% OFF)</td>\n",
       "    </tr>\n",
       "    <tr>\n",
       "      <th>99</th>\n",
       "      <td>Tommy Hilfiger</td>\n",
       "      <td>Men Textured Sneakers</td>\n",
       "      <td>Rs. 7039Rs. 10999(36% OFF)</td>\n",
       "    </tr>\n",
       "  </tbody>\n",
       "</table>\n",
       "<p>100 rows × 3 columns</p>\n",
       "</div>"
      ],
      "text/plain": [
       "            product                     description  \\\n",
       "0              ALDO           Leather Solid Loafers   \n",
       "1              Puma   Men Jamming 2.0 Running Shoes   \n",
       "2              Nike   Men Zoom Span 4 Running Shoes   \n",
       "3   PUMA Motorsport   Unisex Scuderia Ferrari Shoes   \n",
       "4   PUMA Motorsport     Unisex Mercedes F1 Sneakers   \n",
       "..              ...                             ...   \n",
       "95           ADIDAS   Women GT-2000 9 Running Shoes   \n",
       "96            ASICS      Men Textured Leather Monks   \n",
       "97             Geox            Men Printed Sneakers   \n",
       "98            Ruosh  Women Textured Leather Loafers   \n",
       "99   Tommy Hilfiger           Men Textured Sneakers   \n",
       "\n",
       "                          price  \n",
       "0   Rs. 10499Rs. 14999(30% OFF)  \n",
       "1   Rs. 10399Rs. 12999(20% OFF)  \n",
       "2                      Rs. 7195  \n",
       "3     Rs. 7999Rs. 9999(20% OFF)  \n",
       "4     Rs. 7999Rs. 9999(20% OFF)  \n",
       "..                          ...  \n",
       "95   Rs. 8399Rs. 11999(30% OFF)  \n",
       "96                     Rs. 6990  \n",
       "97                     Rs. 6999  \n",
       "98     Rs. 6920Rs. 6990(1% OFF)  \n",
       "99   Rs. 7039Rs. 10999(36% OFF)  \n",
       "\n",
       "[100 rows x 3 columns]"
      ]
     },
     "execution_count": 153,
     "metadata": {},
     "output_type": "execute_result"
    }
   ],
   "source": [
    "df=pd.DataFrame()\n",
    "df[\"product\"]=names[0:100]\n",
    "df[\"description\"]=descs[0:100]\n",
    "df[\"price\"]=prices[0:100]\n",
    "df"
   ]
  },
  {
   "cell_type": "code",
   "execution_count": 154,
   "metadata": {},
   "outputs": [],
   "source": [
    "driver.close()"
   ]
  },
  {
   "cell_type": "raw",
   "metadata": {},
   "source": [
    "Q10: Go to webpage https://www.amazon.in/\n",
    "     Enter “Laptop” in the search field and then click the search icon.\n",
    "     Then set CPU Type filter to “Intel Core i7” and “Intel Core i9” as shown in the \n",
    "     below image:"
   ]
  },
  {
   "cell_type": "code",
   "execution_count": 2,
   "metadata": {},
   "outputs": [],
   "source": [
    "driver=webdriver.Chrome(\"chromedriver.exe\")\n",
    "driver.get(\" https://www.amazon.in/\")"
   ]
  },
  {
   "cell_type": "code",
   "execution_count": 3,
   "metadata": {},
   "outputs": [],
   "source": [
    "search = driver.find_element_by_id(\"twotabsearchtextbox\")\n",
    "search.send_keys(\"Laptop\")"
   ]
  },
  {
   "cell_type": "code",
   "execution_count": 4,
   "metadata": {},
   "outputs": [],
   "source": [
    "search_btn=driver.find_element_by_id(\"nav-search-submit-button\")\n",
    "search_btn.click()"
   ]
  },
  {
   "cell_type": "code",
   "execution_count": 5,
   "metadata": {},
   "outputs": [],
   "source": [
    "filter_button=driver.find_element_by_xpath(\"/html/body/div[1]/div[2]/div[1]/div[2]/div/div[3]/span/div[1]/span/div/div/div[6]/ul[1]/li[26]/span/a/div\")\n",
    "filter_button.click()"
   ]
  },
  {
   "cell_type": "code",
   "execution_count": 6,
   "metadata": {},
   "outputs": [],
   "source": [
    "filter_button=driver.find_element_by_xpath(\"/html/body/div[1]/div[2]/div[1]/div[2]/div/div[3]/span/div[1]/span/div/div/div[6]/ul[1]/li[28]/span/a/div\")\n",
    "filter_button.click()"
   ]
  },
  {
   "cell_type": "code",
   "execution_count": 7,
   "metadata": {},
   "outputs": [
    {
     "data": {
      "text/plain": [
       "['Lenovo ThinkBook 15 Intel 11th Gen Core i7 15.6\" (39.62 cm) FHD IPS 300 nits Antiglare 100% sRGB Thin and Light Laptop (16GB/512GB SSD/Windows 10/MS Office/3 Yr Onsite Warranty/1.7 Kg), 20VEA0HHIH',\n",
       " 'Fujitsu UH-X 11th Gen Intel i7 Core 13.3” (33.78cm) FHD IPS 400Nits Thin and Light Laptop (16GB/512GB SSD/Win10/Office/Iris Xe Graphics/Backlit Kb/ Fingerprint Reader/Black/878gms), 4ZR1D67596',\n",
       " 'Life Digital Laptop 15.6-inch (39.62 cms) (Intel Core i7, 4GB RAM, 256GB SSD, Windows 10), ZED AIR CX7',\n",
       " 'Mi Notebook Horizon Edition 14 Intel Core i7-10510U 10th Gen Thin and Light Laptop(8GB/512GB SSD/Windows 10/Nvidia MX350 2GB Graphics/Grey/1.35Kg)(Without Webcam) XMA1904-AF',\n",
       " 'HP Pavilion (2021) Intel 11th Gen Core i7 14 inches FHD Screen Thin & Light Laptop, 16 GB RAM, 1TB SSD, Iris Xe Graphics, Windows 10, MS Office, Backlit Keyboard, 1.41kg (14-dv0058TU), Silver',\n",
       " 'Acer Nitro 5 11th Gen Intel Core i7-11800H 15.6\" (39.62cms) Full HD Gaming Laptop (16 GB/256GB SSD/1 TB HDD/Win 10/RTX 3050 Ti 4GB Graphics/144 Hz, Black, 2.4 kg/RGB Backlit Keyboard) AN515-57',\n",
       " 'HP Pavilion 13(2021) 11th Gen Intel Core i7 Laptop, 16GB RAM, 1TB SSD, 13.3-inch(33.8 cm) FHD Screen, Win 10, MS Office, Ceramic White, 1.24 Kg (13-bb0078TU)',\n",
       " 'Lenovo ThinkBook 15 Intel 11th Gen Core i7 15.6\" (39.62 cm) FHD IPS 300 nits Antiglare 100% sRGB Thin and Light Laptop (16GB/512GB SSD/Windows 10/MS Office/3 Yr Onsite Warranty/1.7 Kg), 20VEA0HHIH',\n",
       " 'Dell 14 (2021) i7-1195G7 2in1 Touch Screen Laptop, 16GB, 512GB SSD, Win 10 + MS Office, 14.0\" (35.56 cms) FHD Display, Backlit KB, FPR + Active Pen, Platinum Silver (Inspiron 5410, D560596WIN9S)',\n",
       " 'Fujitsu UH-X 11th Gen Intel i7 Core 13.3” (33.78cm) FHD IPS 400Nits Thin and Light Laptop (16GB/512GB SSD/Win10/Office/Iris Xe Graphics/Backlit Kb/ Fingerprint Reader/Black/878gms), 4ZR1D67596']"
      ]
     },
     "execution_count": 7,
     "metadata": {},
     "output_type": "execute_result"
    }
   ],
   "source": [
    "title=driver.find_elements_by_xpath(\"//h2[@class='a-size-mini a-spacing-none a-color-base s-line-clamp-2']\")\n",
    "titles=[]\n",
    "for i in title:\n",
    "    titles.append(i.text)\n",
    "titles[0:10]"
   ]
  },
  {
   "cell_type": "code",
   "execution_count": 8,
   "metadata": {},
   "outputs": [
    {
     "data": {
      "text/plain": [
       "['84,990',\n",
       " '89,990',\n",
       " '24,990',\n",
       " '53,990',\n",
       " '84,990',\n",
       " '89,990',\n",
       " '91,990',\n",
       " '84,990',\n",
       " '89,990',\n",
       " '89,990']"
      ]
     },
     "execution_count": 8,
     "metadata": {},
     "output_type": "execute_result"
    }
   ],
   "source": [
    "price=driver.find_elements_by_xpath(\"//span[@class='a-price-whole']\")\n",
    "prices=[]\n",
    "for i in price:\n",
    "    prices.append(i.text)\n",
    "prices[0:10]"
   ]
  },
  {
   "cell_type": "code",
   "execution_count": 9,
   "metadata": {},
   "outputs": [],
   "source": [
    "page_url = [] \n",
    "\n",
    "url = driver.find_elements_by_xpath(\"//a[@class='a-link-normal a-text-normal']\")\n",
    "for i in url:\n",
    "    page_url.append(i.get_attribute('href'))"
   ]
  },
  {
   "cell_type": "code",
   "execution_count": 193,
   "metadata": {},
   "outputs": [
    {
     "data": {
      "text/plain": [
       "['https://www.amazon.in/gp/slredirect/picassoRedirect.html/ref=pa_sp_atf_computers_sr_pg1_1?ie=UTF8&adId=A03180532XQPG7KYMJMUI&url=%2FLG-Ultra-Light-16-inches-Thunderbolt-16Z90P-G-AH75A2%2Fdp%2FB09B81W875%2Fref%3Dsr_1_1_sspa%3Fdchild%3D1%26keywords%3DLaptop%26qid%3D1634230979%26refinements%3Dp_n_feature_thirteen_browse-bin%253A12598163031%257C16757432031%26rnid%3D12598141031%26s%3Dcomputers%26sr%3D1-1-spons%26psc%3D1&qualifier=1634230979&id=6655275886193722&widgetName=sp_atf',\n",
       " 'https://www.amazon.in/gp/slredirect/picassoRedirect.html/ref=pa_sp_atf_computers_sr_pg1_1?ie=UTF8&adId=A07831422XG3LWS75TAAF&url=%2FLenovo-ThinkBook-Antiglare-Warranty-20VEA0HHIH%2Fdp%2FB09GW2F4XV%2Fref%3Dsr_1_2_sspa%3Fdchild%3D1%26keywords%3DLaptop%26qid%3D1634230979%26refinements%3Dp_n_feature_thirteen_browse-bin%253A12598163031%257C16757432031%26rnid%3D12598141031%26s%3Dcomputers%26sr%3D1-2-spons%26psc%3D1&qualifier=1634230979&id=6655275886193722&widgetName=sp_atf',\n",
       " 'https://www.amazon.in/LifeDigital-Laptop-Intel%C2%AE-Storage-Windows/dp/B08HRMHZ8J/ref=sr_1_3?dchild=1&keywords=Laptop&qid=1634230979&refinements=p_n_feature_thirteen_browse-bin%3A12598163031%7C16757432031&rnid=12598141031&s=computers&sr=1-3',\n",
       " 'https://www.amazon.in/HP-Pavilion-Graphics-35-56cms-14-dv0058TU/dp/B08WB857GB/ref=sr_1_4?dchild=1&keywords=Laptop&qid=1634230979&refinements=p_n_feature_thirteen_browse-bin%3A12598163031%7C16757432031&rnid=12598141031&s=computers&sr=1-4',\n",
       " 'https://www.amazon.in/Notebook-Horizon-i7-10510U-Graphics-XMA1904-AF/dp/B089DFJHZ8/ref=sr_1_5?dchild=1&keywords=Laptop&qid=1634230979&refinements=p_n_feature_thirteen_browse-bin%3A12598163031%7C16757432031&rnid=12598141031&s=computers&sr=1-5',\n",
       " 'https://www.amazon.in/Acer-i7-11800H-39-62cms-Graphics-AN515-57/dp/B09C8HZMW2/ref=sr_1_6?dchild=1&keywords=Laptop&qid=1634230979&refinements=p_n_feature_thirteen_browse-bin%3A12598163031%7C16757432031&rnid=12598141031&s=computers&sr=1-6',\n",
       " 'https://www.amazon.in/Lenovo-ThinkBook-Antiglare-Warranty-20VEA0HHIH/dp/B09GW2F4XV/ref=sr_1_7?dchild=1&keywords=Laptop&qid=1634230979&refinements=p_n_feature_thirteen_browse-bin%3A12598163031%7C16757432031&rnid=12598141031&s=computers&sr=1-7',\n",
       " 'https://www.amazon.in/HP-Pavilion-13-3-inch-Ceramic-13-bb0078TU/dp/B09839P9XB/ref=sr_1_8?dchild=1&keywords=Laptop&qid=1634230979&refinements=p_n_feature_thirteen_browse-bin%3A12598163031%7C16757432031&rnid=12598141031&s=computers&sr=1-8',\n",
       " 'https://www.amazon.in/Dell-i7-1195G7-Platinum-5410-D560596WIN9S/dp/B09F3QKQH6/ref=sr_1_9?dchild=1&keywords=Laptop&qid=1634230979&refinements=p_n_feature_thirteen_browse-bin%3A12598163031%7C16757432031&rnid=12598141031&s=computers&sr=1-9',\n",
       " 'https://www.amazon.in/Lenovo-i7-10750H-39-63cm-Windows-82AU00PNIN/dp/B097TY6PTN/ref=sr_1_10?dchild=1&keywords=Laptop&qid=1634230979&refinements=p_n_feature_thirteen_browse-bin%3A12598163031%7C16757432031&rnid=12598141031&s=computers&sr=1-10',\n",
       " 'https://www.amazon.in/Lenovo-ThinkBook-Antiglare-Warranty-20VEA0HBIH/dp/B09G3CQXSD/ref=sr_1_11?dchild=1&keywords=Laptop&qid=1634230979&refinements=p_n_feature_thirteen_browse-bin%3A12598163031%7C16757432031&rnid=12598141031&s=computers&sr=1-11',\n",
       " 'https://www.amazon.in/Fujitsu-33-78cm-Graphics-Fingerprint-4ZR1D67596/dp/B098P34QRL/ref=sr_1_12?dchild=1&keywords=Laptop&qid=1634230979&refinements=p_n_feature_thirteen_browse-bin%3A12598163031%7C16757432031&rnid=12598141031&s=computers&sr=1-12',\n",
       " 'https://www.amazon.in/ASUS-Dash-F15-15-6-inch-i7-11370H-FX516PC-HN062T/dp/B096KZ11KK/ref=sr_1_13?dchild=1&keywords=Laptop&qid=1634230979&refinements=p_n_feature_thirteen_browse-bin%3A12598163031%7C16757432031&rnid=12598141031&s=computers&sr=1-13',\n",
       " 'https://www.amazon.in/Fujitsu-Convertible-Business-Graphics-4ZR1D71993/dp/B098P4M233/ref=sr_1_14?dchild=1&keywords=Laptop&qid=1634230979&refinements=p_n_feature_thirteen_browse-bin%3A12598163031%7C16757432031&rnid=12598141031&s=computers&sr=1-14',\n",
       " 'https://www.amazon.in/gp/slredirect/picassoRedirect.html/ref=pa_sp_mtf_computers_sr_pg1_1?ie=UTF8&adId=A09871313SV6E7SWE5EX0&url=%2FRenewed-HP-15-6-Inch-Graphics-Zbook%2Fdp%2FB0912JRYG6%2Fref%3Dsr_1_15_sspa%3Fdchild%3D1%26keywords%3DLaptop%26qid%3D1634230979%26refinements%3Dp_n_feature_thirteen_browse-bin%253A12598163031%257C16757432031%26rnid%3D12598141031%26s%3Dcomputers%26sr%3D1-15-spons%26psc%3D1&qualifier=1634230979&id=6655275886193722&widgetName=sp_mtf',\n",
       " 'https://www.amazon.in/HP-Pavilion-15-6-inch-Graphics-15-dk2075tx/dp/B09BDBCRNZ/ref=sr_1_16?dchild=1&keywords=Laptop&qid=1634230979&refinements=p_n_feature_thirteen_browse-bin%3A12598163031%7C16757432031&rnid=12598141031&s=computers&sr=1-16',\n",
       " 'https://www.amazon.in/Dell-i7-10870H-G15-5510-D560534WIN9B/dp/B09F3PCD31/ref=sr_1_17?dchild=1&keywords=Laptop&qid=1634230979&refinements=p_n_feature_thirteen_browse-bin%3A12598163031%7C16757432031&rnid=12598141031&s=computers&sr=1-17',\n",
       " 'https://www.amazon.in/ASUS-i7-11370H-GeForce-Graphics-FX516PM-AZ153TS/dp/B08CKRKTSY/ref=sr_1_18?dchild=1&keywords=Laptop&qid=1634230979&refinements=p_n_feature_thirteen_browse-bin%3A12598163031%7C16757432031&rnid=12598141031&s=computers&sr=1-18',\n",
       " 'https://www.amazon.in/Lenovo-IdeaPad-i7-11370H-39-63cm-82K1004EIN/dp/B09BJ7GD7B/ref=sr_1_19?dchild=1&keywords=Laptop&qid=1634230979&refinements=p_n_feature_thirteen_browse-bin%3A12598163031%7C16757432031&rnid=12598141031&s=computers&sr=1-19',\n",
       " 'https://www.amazon.in/ASUS-15-6-inch-i7-11800H-RTX-3050-FX566HC-HN050T/dp/B09CCL46PH/ref=sr_1_20?dchild=1&keywords=Laptop&qid=1634230979&refinements=p_n_feature_thirteen_browse-bin%3A12598163031%7C16757432031&rnid=12598141031&s=computers&sr=1-20',\n",
       " 'https://www.amazon.in/Lenovo-Touchscreen-Fingerprint-Aluminium-82BH004HIN/dp/B08P3M22QQ/ref=sr_1_21?dchild=1&keywords=Laptop&qid=1634230979&refinements=p_n_feature_thirteen_browse-bin%3A12598163031%7C16757432031&rnid=12598141031&s=computers&sr=1-21',\n",
       " 'https://www.amazon.in/MSI-i7-10750H-IPS-Level-Windows-10SCXR-654IN/dp/B093L8QGL7/ref=sr_1_22?dchild=1&keywords=Laptop&qid=1634230979&refinements=p_n_feature_thirteen_browse-bin%3A12598163031%7C16757432031&rnid=12598141031&s=computers&sr=1-22',\n",
       " 'https://www.amazon.in/Lenovo-39-62cm-Refresh-Keyboard-82JK007WIN/dp/B09DMYZW5Q/ref=sr_1_23?dchild=1&keywords=Laptop&qid=1634230979&refinements=p_n_feature_thirteen_browse-bin%3A12598163031%7C16757432031&rnid=12598141031&s=computers&sr=1-23',\n",
       " 'https://www.amazon.in/ASUS-ZenBook-i7-1165G7-Business-Graphics/dp/B095C55Q7P/ref=sr_1_24?dchild=1&keywords=Laptop&qid=1634230979&refinements=p_n_feature_thirteen_browse-bin%3A12598163031%7C16757432031&rnid=12598141031&s=computers&sr=1-24',\n",
       " 'https://www.amazon.in/Dell-i7-11800H-G15-5511-D560546WIN9B/dp/B09F3Q5GTR/ref=sr_1_25?dchild=1&keywords=Laptop&qid=1634230979&refinements=p_n_feature_thirteen_browse-bin%3A12598163031%7C16757432031&rnid=12598141031&s=computers&sr=1-25',\n",
       " 'https://www.amazon.in/Lenovo-Touchscreen-Graphics-Fingerprint-82A300BEIN/dp/B094XHDWWF/ref=sr_1_26?dchild=1&keywords=Laptop&qid=1634230979&refinements=p_n_feature_thirteen_browse-bin%3A12598163031%7C16757432031&rnid=12598141031&s=computers&sr=1-26',\n",
       " 'https://www.amazon.in/ASUS-Dash-F15-15-6-inch-i7-11370H-FX516PC-HN063T/dp/B096KVJ5PC/ref=sr_1_27?dchild=1&keywords=Laptop&qid=1634230979&refinements=p_n_feature_thirteen_browse-bin%3A12598163031%7C16757432031&rnid=12598141031&s=computers&sr=1-27',\n",
       " 'https://www.amazon.in/gp/slredirect/picassoRedirect.html/ref=pa_sp_btf_computers_sr_pg1_1?ie=UTF8&adId=A03807122ZPW725VP64T0&url=%2FLG-Ultra-Light-17-inches-Thunderbolt-17Z90P-G-AH75A2%2Fdp%2FB09B816K7V%2Fref%3Dsr_1_28_sspa%3Fdchild%3D1%26keywords%3DLaptop%26qid%3D1634230979%26refinements%3Dp_n_feature_thirteen_browse-bin%253A12598163031%257C16757432031%26rnid%3D12598141031%26s%3Dcomputers%26sr%3D1-28-spons%26psc%3D1&qualifier=1634230979&id=6655275886193722&widgetName=sp_btf',\n",
       " 'https://www.amazon.in/gp/slredirect/picassoRedirect.html/ref=pa_sp_btf_computers_sr_pg1_1?ie=UTF8&adId=A044756312OPSSBIO8FAW&url=%2FFujitsu-33-78cm-Graphics-Fingerprint-4ZR1D67596%2Fdp%2FB098P34QRL%2Fref%3Dsr_1_29_sspa%3Fdchild%3D1%26keywords%3DLaptop%26qid%3D1634230979%26refinements%3Dp_n_feature_thirteen_browse-bin%253A12598163031%257C16757432031%26rnid%3D12598141031%26s%3Dcomputers%26sr%3D1-29-spons%26psc%3D1&qualifier=1634230979&id=6655275886193722&widgetName=sp_btf',\n",
       " 'https://www.amazon.in/gp/slredirect/picassoRedirect.html/ref=sspa_dk_rhf_search_pt_sub_0?ie=UTF8&adId=A07331691LZNWY60A2RE8&adOffset=0&qualifier=1634231335&id=3395780469936402&widgetName=sp_rhf_search&url=%2FHP-Chromebook-14a-na0002TU-Integrated-Graphics%2Fdp%2FB08C5WLK3P%3Fpsc%3D1%26pd_rd_w%3DgDXqg%26pf_rd_p%3Da458bc5b-bc65-4238-9284-07ecc9e72432%26pf_rd_r%3DJN0JTGZTWNG23PZMXKRH%26pd_rd_r%3D1b02184b-2313-457c-99bd-9410fc0f5d84%26pd_rd_wg%3DgajNN%26ref_%3Dsspa_dk_rhf_search_pt_sub_0',\n",
       " 'https://www.amazon.in/gp/slredirect/picassoRedirect.html/ref=sspa_dk_rhf_search_pt_sub_1?ie=UTF8&adId=A05289882VRCWE0EFOXPQ&adOffset=0&qualifier=1634231335&id=3395780469936402&widgetName=sp_rhf_search&url=%2FHP-14-inch-Windows-Natural-14s-fq1030AU%2Fdp%2FB0928TPR8H%3Fpsc%3D1%26pd_rd_w%3DgDXqg%26pf_rd_p%3Da458bc5b-bc65-4238-9284-07ecc9e72432%26pf_rd_r%3DJN0JTGZTWNG23PZMXKRH%26pd_rd_r%3D1b02184b-2313-457c-99bd-9410fc0f5d84%26pd_rd_wg%3DgajNN%26ref_%3Dsspa_dk_rhf_search_pt_sub_1',\n",
       " 'https://www.amazon.in/gp/slredirect/picassoRedirect.html/ref=sspa_dk_rhf_search_pt_sub_2?ie=UTF8&adId=A053188419PJSF1WPZXUJ&adOffset=0&qualifier=1634231335&id=3395780469936402&widgetName=sp_rhf_search&url=%2FHP-15-6-inch-Laptop-Windows-15s-gy0501AU%2Fdp%2FB09FL5CK19%3Fpsc%3D1%26pd_rd_w%3DgDXqg%26pf_rd_p%3Da458bc5b-bc65-4238-9284-07ecc9e72432%26pf_rd_r%3DJN0JTGZTWNG23PZMXKRH%26pd_rd_r%3D1b02184b-2313-457c-99bd-9410fc0f5d84%26pd_rd_wg%3DgajNN%26ref_%3Dsspa_dk_rhf_search_pt_sub_2',\n",
       " 'https://www.amazon.in/gp/slredirect/picassoRedirect.html/ref=sspa_dk_rhf_search_pt_sub_3?ie=UTF8&adId=A0982478MY1XSEGSSY0T&adOffset=0&qualifier=1634231335&id=3395780469936402&widgetName=sp_rhf_search&url=%2FMSI-GF75-Thin-i7-10750H-10UD-086IN%2Fdp%2FB09BR7574Z%3Fpsc%3D1%26pd_rd_w%3DgDXqg%26pf_rd_p%3Da458bc5b-bc65-4238-9284-07ecc9e72432%26pf_rd_r%3DJN0JTGZTWNG23PZMXKRH%26pd_rd_r%3D1b02184b-2313-457c-99bd-9410fc0f5d84%26pd_rd_wg%3DgajNN%26ref_%3Dsspa_dk_rhf_search_pt_sub_3',\n",
       " 'https://www.amazon.in/gp/slredirect/picassoRedirect.html/ref=sspa_dk_rhf_search_pt_sub_4?ie=UTF8&adId=A09823532TSMTRLP1ISOH&adOffset=0&qualifier=1634231335&id=3395780469936402&widgetName=sp_rhf_search&url=%2FMSI-i7-10750H-IPS-Level-10SC-087IN-9S7-17F612-087%2Fdp%2FB09BR9RQY7%3Fpsc%3D1%26pd_rd_w%3DgDXqg%26pf_rd_p%3Da458bc5b-bc65-4238-9284-07ecc9e72432%26pf_rd_r%3DJN0JTGZTWNG23PZMXKRH%26pd_rd_r%3D1b02184b-2313-457c-99bd-9410fc0f5d84%26pd_rd_wg%3DgajNN%26ref_%3Dsspa_dk_rhf_search_pt_sub_4',\n",
       " 'https://www.amazon.in/gp/slredirect/picassoRedirect.html/ref=sspa_dk_rhf_search_pt_sub_5?ie=UTF8&adId=A084663281K06JTLLR3U&adOffset=0&qualifier=1634231335&id=3395780469936402&widgetName=sp_rhf_search&url=%2FHP-inches-Laptop-Windows-15s-du1066TU%2Fdp%2FB095YC11CF%3Fpsc%3D1%26pd_rd_w%3DgDXqg%26pf_rd_p%3Da458bc5b-bc65-4238-9284-07ecc9e72432%26pf_rd_r%3DJN0JTGZTWNG23PZMXKRH%26pd_rd_r%3D1b02184b-2313-457c-99bd-9410fc0f5d84%26pd_rd_wg%3DgajNN%26ref_%3Dsspa_dk_rhf_search_pt_sub_5',\n",
       " 'https://www.amazon.in/gp/slredirect/picassoRedirect.html/ref=sspa_dk_rhf_search_pt_sub_6?ie=UTF8&adId=A03509501KS5RK95SY8YC&adOffset=0&qualifier=1634231335&id=3395780469936402&widgetName=sp_rhf_search&url=%2FHP-Pavilion-15-6-inch-Fingerprint-15-eh1103AU%2Fdp%2FB09DGDW4Y1%3Fpsc%3D1%26pd_rd_w%3DgDXqg%26pf_rd_p%3Da458bc5b-bc65-4238-9284-07ecc9e72432%26pf_rd_r%3DJN0JTGZTWNG23PZMXKRH%26pd_rd_r%3D1b02184b-2313-457c-99bd-9410fc0f5d84%26pd_rd_wg%3DgajNN%26ref_%3Dsspa_dk_rhf_search_pt_sub_6']"
      ]
     },
     "execution_count": 193,
     "metadata": {},
     "output_type": "execute_result"
    }
   ],
   "source": [
    "page_url"
   ]
  },
  {
   "cell_type": "code",
   "execution_count": 12,
   "metadata": {},
   "outputs": [],
   "source": [
    "import time\n",
    "from selenium.common.exceptions import NoSuchElementException\n",
    "rating=[]\n",
    "for i in page_url[:10]: \n",
    "    driver.get(i)\n",
    "    time.sleep(3)\n",
    "    \n",
    "    try:\n",
    "        ratings = driver.find_element_by_xpath(\"//span[@class='a-size-base a-nowrap']\")\n",
    "        rating.append(ratings.text)\n",
    "    except NoSuchElementException as e:\n",
    "        ratings=driver.find_element_by_xpath(\"//h3[@class='a-spacing-small']\")\n",
    "        rating.append(ratings.text)"
   ]
  },
  {
   "cell_type": "code",
   "execution_count": 13,
   "metadata": {},
   "outputs": [
    {
     "data": {
      "text/plain": [
       "['4.4 out of 5',\n",
       " '4.4 out of 5',\n",
       " '3.3 out of 5',\n",
       " '4.2 out of 5',\n",
       " '4.3 out of 5',\n",
       " '3.8 out of 5',\n",
       " '4.4 out of 5',\n",
       " '4.4 out of 5',\n",
       " 'No customer reviews',\n",
       " '4.4 out of 5']"
      ]
     },
     "execution_count": 13,
     "metadata": {},
     "output_type": "execute_result"
    }
   ],
   "source": [
    "rating"
   ]
  },
  {
   "cell_type": "code",
   "execution_count": 15,
   "metadata": {},
   "outputs": [
    {
     "data": {
      "text/html": [
       "<div>\n",
       "<style scoped>\n",
       "    .dataframe tbody tr th:only-of-type {\n",
       "        vertical-align: middle;\n",
       "    }\n",
       "\n",
       "    .dataframe tbody tr th {\n",
       "        vertical-align: top;\n",
       "    }\n",
       "\n",
       "    .dataframe thead th {\n",
       "        text-align: right;\n",
       "    }\n",
       "</style>\n",
       "<table border=\"1\" class=\"dataframe\">\n",
       "  <thead>\n",
       "    <tr style=\"text-align: right;\">\n",
       "      <th></th>\n",
       "      <th>product title</th>\n",
       "      <th>ratings</th>\n",
       "      <th>price</th>\n",
       "    </tr>\n",
       "  </thead>\n",
       "  <tbody>\n",
       "    <tr>\n",
       "      <th>0</th>\n",
       "      <td>Lenovo ThinkBook 15 Intel 11th Gen Core i7 15....</td>\n",
       "      <td>4.4 out of 5</td>\n",
       "      <td>84,990</td>\n",
       "    </tr>\n",
       "    <tr>\n",
       "      <th>1</th>\n",
       "      <td>Fujitsu UH-X 11th Gen Intel i7 Core 13.3” (33....</td>\n",
       "      <td>4.4 out of 5</td>\n",
       "      <td>89,990</td>\n",
       "    </tr>\n",
       "    <tr>\n",
       "      <th>2</th>\n",
       "      <td>Life Digital Laptop 15.6-inch (39.62 cms) (Int...</td>\n",
       "      <td>3.3 out of 5</td>\n",
       "      <td>24,990</td>\n",
       "    </tr>\n",
       "    <tr>\n",
       "      <th>3</th>\n",
       "      <td>Mi Notebook Horizon Edition 14 Intel Core i7-1...</td>\n",
       "      <td>4.2 out of 5</td>\n",
       "      <td>53,990</td>\n",
       "    </tr>\n",
       "    <tr>\n",
       "      <th>4</th>\n",
       "      <td>HP Pavilion (2021) Intel 11th Gen Core i7 14 i...</td>\n",
       "      <td>4.3 out of 5</td>\n",
       "      <td>84,990</td>\n",
       "    </tr>\n",
       "    <tr>\n",
       "      <th>5</th>\n",
       "      <td>Acer Nitro 5 11th Gen Intel Core i7-11800H 15....</td>\n",
       "      <td>3.8 out of 5</td>\n",
       "      <td>89,990</td>\n",
       "    </tr>\n",
       "    <tr>\n",
       "      <th>6</th>\n",
       "      <td>HP Pavilion 13(2021) 11th Gen Intel Core i7 La...</td>\n",
       "      <td>4.4 out of 5</td>\n",
       "      <td>91,990</td>\n",
       "    </tr>\n",
       "    <tr>\n",
       "      <th>7</th>\n",
       "      <td>Lenovo ThinkBook 15 Intel 11th Gen Core i7 15....</td>\n",
       "      <td>4.4 out of 5</td>\n",
       "      <td>84,990</td>\n",
       "    </tr>\n",
       "    <tr>\n",
       "      <th>8</th>\n",
       "      <td>Dell 14 (2021) i7-1195G7 2in1 Touch Screen Lap...</td>\n",
       "      <td>No customer reviews</td>\n",
       "      <td>89,990</td>\n",
       "    </tr>\n",
       "    <tr>\n",
       "      <th>9</th>\n",
       "      <td>Fujitsu UH-X 11th Gen Intel i7 Core 13.3” (33....</td>\n",
       "      <td>4.4 out of 5</td>\n",
       "      <td>89,990</td>\n",
       "    </tr>\n",
       "  </tbody>\n",
       "</table>\n",
       "</div>"
      ],
      "text/plain": [
       "                                       product title              ratings  \\\n",
       "0  Lenovo ThinkBook 15 Intel 11th Gen Core i7 15....         4.4 out of 5   \n",
       "1  Fujitsu UH-X 11th Gen Intel i7 Core 13.3” (33....         4.4 out of 5   \n",
       "2  Life Digital Laptop 15.6-inch (39.62 cms) (Int...         3.3 out of 5   \n",
       "3  Mi Notebook Horizon Edition 14 Intel Core i7-1...         4.2 out of 5   \n",
       "4  HP Pavilion (2021) Intel 11th Gen Core i7 14 i...         4.3 out of 5   \n",
       "5  Acer Nitro 5 11th Gen Intel Core i7-11800H 15....         3.8 out of 5   \n",
       "6  HP Pavilion 13(2021) 11th Gen Intel Core i7 La...         4.4 out of 5   \n",
       "7  Lenovo ThinkBook 15 Intel 11th Gen Core i7 15....         4.4 out of 5   \n",
       "8  Dell 14 (2021) i7-1195G7 2in1 Touch Screen Lap...  No customer reviews   \n",
       "9  Fujitsu UH-X 11th Gen Intel i7 Core 13.3” (33....         4.4 out of 5   \n",
       "\n",
       "    price  \n",
       "0  84,990  \n",
       "1  89,990  \n",
       "2  24,990  \n",
       "3  53,990  \n",
       "4  84,990  \n",
       "5  89,990  \n",
       "6  91,990  \n",
       "7  84,990  \n",
       "8  89,990  \n",
       "9  89,990  "
      ]
     },
     "execution_count": 15,
     "metadata": {},
     "output_type": "execute_result"
    }
   ],
   "source": [
    "df=pd.DataFrame()\n",
    "df[\"product title\"]=titles[0:10]\n",
    "df[\"ratings\"]=rating[0:10]\n",
    "df[\"price\"]=prices[0:10]\n",
    "df"
   ]
  },
  {
   "cell_type": "code",
   "execution_count": 16,
   "metadata": {},
   "outputs": [],
   "source": [
    "driver.close()"
   ]
  },
  {
   "cell_type": "code",
   "execution_count": null,
   "metadata": {},
   "outputs": [],
   "source": []
  }
 ],
 "metadata": {
  "kernelspec": {
   "display_name": "Python 3",
   "language": "python",
   "name": "python3"
  },
  "language_info": {
   "codemirror_mode": {
    "name": "ipython",
    "version": 3
   },
   "file_extension": ".py",
   "mimetype": "text/x-python",
   "name": "python",
   "nbconvert_exporter": "python",
   "pygments_lexer": "ipython3",
   "version": "3.8.5"
  }
 },
 "nbformat": 4,
 "nbformat_minor": 4
}
